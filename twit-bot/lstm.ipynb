{
 "cells": [
  {
   "cell_type": "markdown",
   "metadata": {},
   "source": [
    "Requirements \n",
    "\n",
    "- Tensorflow, if you have anaconda `conda install tensorflow`\n",
    "- `pip install -y pandas numpy keras`"
   ]
  },
  {
   "cell_type": "code",
   "execution_count": 132,
   "metadata": {},
   "outputs": [],
   "source": [
    "# Data\n",
    "import pandas as pd\n",
    "import numpy as np\n",
    "import sys\n",
    "import re\n",
    "\n",
    "# Keras\n",
    "from keras.models import Sequential\n",
    "from keras.layers import Dense\n",
    "from keras.layers import Dropout\n",
    "from keras.layers import LSTM\n",
    "from keras.callbacks import ModelCheckpoint\n",
    "from keras.utils import np_utils"
   ]
  },
  {
   "cell_type": "markdown",
   "metadata": {},
   "source": [
    "## Inputs"
   ]
  },
  {
   "cell_type": "code",
   "execution_count": 2,
   "metadata": {},
   "outputs": [
    {
     "data": {
      "text/html": [
       "<div>\n",
       "<style>\n",
       "    .dataframe thead tr:only-child th {\n",
       "        text-align: right;\n",
       "    }\n",
       "\n",
       "    .dataframe thead th {\n",
       "        text-align: left;\n",
       "    }\n",
       "\n",
       "    .dataframe tbody tr th {\n",
       "        vertical-align: top;\n",
       "    }\n",
       "</style>\n",
       "<table border=\"1\" class=\"dataframe\">\n",
       "  <thead>\n",
       "    <tr style=\"text-align: right;\">\n",
       "      <th></th>\n",
       "      <th>source</th>\n",
       "      <th>text</th>\n",
       "      <th>created</th>\n",
       "      <th>retweets</th>\n",
       "      <th>favorites</th>\n",
       "      <th>is_retweet</th>\n",
       "      <th>id</th>\n",
       "    </tr>\n",
       "  </thead>\n",
       "  <tbody>\n",
       "    <tr>\n",
       "      <th>0</th>\n",
       "      <td>Twitter for iPhone</td>\n",
       "      <td>RT @GOPChairwoman: .@realDonaldTrump is the Pa...</td>\n",
       "      <td>12-14-2017 23:26:54</td>\n",
       "      <td>4262</td>\n",
       "      <td>0</td>\n",
       "      <td>True</td>\n",
       "      <td>941449449850761217</td>\n",
       "    </tr>\n",
       "    <tr>\n",
       "      <th>1</th>\n",
       "      <td>Twitter for iPhone</td>\n",
       "      <td>“Manufacturing Optimism Rose to Another All-Ti...</td>\n",
       "      <td>12-14-2017 21:20:51</td>\n",
       "      <td>4789</td>\n",
       "      <td>19906</td>\n",
       "      <td>False</td>\n",
       "      <td>941417725833998340</td>\n",
       "    </tr>\n",
       "  </tbody>\n",
       "</table>\n",
       "</div>"
      ],
      "text/plain": [
       "               source                                               text  \\\n",
       "0  Twitter for iPhone  RT @GOPChairwoman: .@realDonaldTrump is the Pa...   \n",
       "1  Twitter for iPhone  “Manufacturing Optimism Rose to Another All-Ti...   \n",
       "\n",
       "               created  retweets  favorites  is_retweet                  id  \n",
       "0  12-14-2017 23:26:54      4262          0        True  941449449850761217  \n",
       "1  12-14-2017 21:20:51      4789      19906       False  941417725833998340  "
      ]
     },
     "execution_count": 2,
     "metadata": {},
     "output_type": "execute_result"
    }
   ],
   "source": [
    "df = pd.read_csv('data/tweets-fixed.tsv', sep='\\t', index_col=0)\n",
    "df.head(2)"
   ]
  },
  {
   "cell_type": "markdown",
   "metadata": {},
   "source": [
    "# Processing"
   ]
  },
  {
   "cell_type": "markdown",
   "metadata": {},
   "source": [
    "Sanitize tweets into a format suitable for training"
   ]
  },
  {
   "cell_type": "code",
   "execution_count": 225,
   "metadata": {
    "scrolled": true
   },
   "outputs": [
    {
     "name": "stdout",
     "output_type": "stream",
     "text": [
      "“Manufacturing Optimism Rose to Another All-Time High in the Latest @ShopFloorNAM Outlook Survey” https://t.co/LuV4BMp0Xc\n",
      "manufacturing optimism rose to another all-time high in the latest @shopfloornam outlook survey. \n",
      "\n",
      "In 1960 there were approximately 20000 pages in the Code of Federal Regulations. Today there are over 185000 pages as seen in the Roosevelt Room.Today we CUT THE RED TAPE! It is time to SET FREE OUR DREAMS and MAKE AMERICA GREAT AGAIN! https://t.co/teAVNzjvcx\n",
      "in 1960 there were approximately 20000 pages in the code of federal regulations. today there are over 185000 pages as seen in the roosevelt room.today we cut the red tape! it is time to set free our dreams and make america great again! \n",
      "\n",
      "When Americans are free to thrive innovate & prosper there is no challenge too great no task too large & no goal beyond our reach. We are a nation of explorers pioneers innovators & inventors. We are nation of people who work hard dream big & who never ever give up... https://t.co/9LVdp6zOgZ\n",
      "when americans are free to thrive innovate & prosper there is no challenge too great no task too large & no goal beyond our reach. we are a nation of explorers pioneers innovators & inventors. we are nation of people who work hard dream big & who never ever give up... \n",
      "\n",
      "Today we gathered in the Roosevelt Room for one single reason: to CUT THE RED TAPE! For many decades an ever-growing maze of regs rules and restrictions has cost our country trillions of dollars millions of jobs countless American factories & devastated entire industries. https://t.co/ostXOVnckf\n",
      "today we gathered in the roosevelt room for one single reason: to cut the red tape! for many decades an ever-growing maze of regs rules and restrictions has cost our country trillions of dollars millions of jobs countless american factories & devastated entire industries. \n",
      "\n",
      "As a candidate I promised we would pass a massive tax cut for the everyday working Americans. If you make your voices heard this moment will be forever remembered as a great new beginning – the dawn of a brilliant American future shining with PATRIOTISM PROSPERITY AND PRIDE! https://t.co/exsBzrlCdw\n",
      "as a candidate i promised we would pass a massive tax cut for the everyday working americans. if you make your voices heard this moment will be forever remembered as a great new beginning the dawn of a brilliant american future shining with patriotism prosperity and pride! \n",
      "\n",
      "Republican Tax Cuts are looking very good. All are working hard. In the meantime the Stock Market hit another record high!\n",
      "republican tax cuts are looking very good. all are working hard. in the meantime the stock market hit another record high! \n",
      "\n",
      "Thank you Omarosa for your service! I wish you continued success.\n",
      "thank you omarosa for your service! i wish you continued success. \n",
      "\n",
      "If last night’s election proved anything it proved that we need to put up GREAT Republican candidates to increase the razor thin margins in both the House and Senate.\n",
      "if last nights election proved anything it proved that we need to put up great republican candidates to increase the razor thin margins in both the house and senate. \n",
      "\n",
      "Wow more than 90% of Fake News Media coverage of me is negative with numerous forced retractions of untrue stories. Hence my use of Social Media the only way to get the truth out. Much of Mainstream Meadia has become a joke! @foxandfriends\n",
      "wow more than 90 of fake news media coverage of me is negative with numerous forced retractions of untrue stories. hence my use of social media the only way to get the truth out. much of mainstream meadia has become a joke! @foxandfriends. \n",
      "\n",
      "The reason I originally endorsed Luther Strange (and his numbers went up mightily) is that I said Roy Moore will not be able to win the General Election.  I was right! Roy worked hard but the deck was stacked against him!\n",
      "the reason i originally endorsed luther strange and his numbers went up mightily is that i said roy moore will not be able to win the general election. i was right! roy worked hard but the deck was stacked against him! \n",
      "\n",
      "Congratulations to Doug Jones on a hard fought victory. The write-in votes played a very big factor but a win is a win. The people of Alabama are great and the Republicans will have another shot at this seat in a very short period of time. It never ends!\n",
      "congratulations to doug jones on a hard fought victory. the write-in votes played a very big factor but a win is a win. the people of alabama are great and the republicans will have another shot at this seat in a very short period of time. it never ends! \n",
      "\n",
      "Wishing all of those celebrating #Hanukkah around the world a happy and healthy eight nights in the company of those they love. https://t.co/A5W0PDWBxp https://t.co/D9MVVPq39x\n",
      "wishing all of those celebrating #hanukkah around the world a happy and healthy eight nights in the company of those they love. \n",
      "\n",
      "Consumer Confidence is at an All-Time High along with a Record High Stock Market. Unemployment is at a 17 year low. MAKE AMERICA GREAT AGAIN! Working to pass MASSIVE TAX CUTS (looking good).\n",
      "consumer confidence is at an all-time high along with a record high stock market. unemployment is at a 17 year low. make america great again! working to pass massive tax cuts looking good . \n",
      "\n",
      "The people of Alabama will do the right thing. Doug Jones is Pro-Abortion weak on Crime Military and Illegal Immigration Bad for Gun Owners and Veterans and against the WALL. Jones is a Pelosi/Schumer Puppet. Roy Moore will always vote with us. VOTE ROY MOORE!\n",
      "the people of alabama will do the right thing. doug jones is pro-abortion weak on crime military and illegal immigration bad for gun owners and veterans and against the wall. jones is a pelosi schumer puppet. roy moore will always vote with us. vote roy moore! \n",
      "\n",
      "Lightweight Senator Kirsten Gillibrand a total flunky for Chuck Schumer and someone who would come to my office “begging” for campaign contributions not so long ago (and would do anything for them) is now in the ring fighting against Trump. Very disloyal to Bill &amp; Crooked-USED!\n",
      "lightweight senator kirsten gillibrand a total flunky for chuck schumer and someone who would come to my office begging for campaign contributions not so long ago and would do anything for them is now in the ring fighting against trump. very disloyal to bill & crooked-used! \n",
      "\n",
      "Despite thousands of hours wasted and many millions of dollars spent the Democrats have been unable to show any collusion with Russia - so now they are moving on to the false accusations and fabricated stories of women who I don’t know and/or have never met. FAKE NEWS!\n",
      "despite thousands of hours wasted and many millions of dollars spent the democrats have been unable to show any collusion with russia - so now they are moving on to the false accusations and fabricated stories of women who i dont know and or have never met. fake news! \n",
      "\n",
      "Another false story this time in the Failing @nytimes that I watch 4-8 hours of television a day - Wrong!  Also I seldom if ever watch CNN or MSNBC both of which I consider Fake News. I never watch Don Lemon who I once called the “dumbest man on television!” Bad Reporting.\n",
      "another false story this time in the failing @nytimes that i watch 4-8 hours of television a day - wrong! also i seldom if ever watch cnn or msnbc both of which i consider fake news. i never watch don lemon who i once called the dumbest man on television! bad reporting. \n",
      "\n",
      "Very little discussion of all the purposely false and defamatory stories put out this week by the Fake News Media. They are out of control - correct reporting means nothing to them. Major lies written then forced to be withdrawn after they are exposed...a stain on America!\n",
      "very little discussion of all the purposely false and defamatory stories put out this week by the fake news media. they are out of control - correct reporting means nothing to them. major lies written then forced to be withdrawn after they are exposed...a stain on america! \n",
      "\n",
      "Getting closer and closer on the Tax Cut Bill. Shaping up even better than projected. House and Senate working very hard and smart. End result will be not only important but SPECIAL!\n",
      "getting closer and closer on the tax cut bill. shaping up even better than projected. house and senate working very hard and smart. end result will be not only important but special! \n",
      "\n",
      "Things are going really well for our economy a subject the Fake News spends as little time as possible discussing! Stock Market hit another RECORD HIGH unemployment is now at a 17 year low and companies are coming back into the USA. Really good news and much more to come!\n",
      "things are going really well for our economy a subject the fake news spends as little time as possible discussing! stock market hit another record high unemployment is now at a 17 year low and companies are coming back into the usa. really good news and much more to come! \n",
      "\n",
      "No American should be separated from their loved ones because of preventable crime committed by those illegally in our country. Our cities should be Sanctuaries for Americans – not for criminal aliens! https://t.co/CvtkCG1pln\n",
      "no american should be separated from their loved ones because of preventable crime committed by those illegally in our country. our cities should be sanctuaries for americans not for criminal aliens! \n",
      "\n",
      "Great Army - Navy Game. Army wins 14 to 13 and brings home the COMMANDER-IN-CHIEF’S TROPHY! Congratulations!\n",
      "great army - navy game. army wins 14 to 13 and brings home the commander-in-chiefs trophy! congratulations! \n",
      "\n",
      "Great Army - Navy Game. Army wins 14 to 13 and brings home the COMMANDER-IN-CHIEF’S TROPHY (last time was 1996). Wow! Congratulations!\n",
      "great army - navy game. army wins 14 to 13 and brings home the commander-in-chiefs trophy last time was 1996 . wow! congratulations! \n",
      "\n",
      ".@daveweigel of the Washington Post just admitted that his picture was a FAKE (fraud?) showing an almost empty arena last night for my speech in Pensacola when in fact he knew the arena was packed (as shown also on T.V.). FAKE NEWS he should be fired.\n",
      ".@daveweigel of the washington post just admitted that his picture was a fake fraud? showing an almost empty arena last night for my speech in pensacola when in fact he knew the arena was packed as shown also on t.v. . fake news he should be fired. \n",
      "\n",
      ".@DaveWeigel @WashingtonPost put out a phony photo of an empty arena hours before I arrived @ the venue w/ thousands of people outside on their way in. Real photos now shown as I spoke. Packed house many people unable to get in. Demand apology & retraction from FAKE NEWS WaPo! https://t.co/XAblFGh1ob\n",
      ".@daveweigel @washingtonpost put out a phony photo of an empty arena hours before i arrived @ the venue w thousands of people outside on their way in. real photos now shown as i spoke. packed house many people unable to get in. demand apology & retraction from fake news wapo! \n",
      "\n",
      "Have a great game today @USArmy and @USNavy - I will be watching. We love our U.S. Military. On behalf of an entire Nation THANK YOU for your sacrifice and service! #ArmyNavyGame #USA🇺🇸 https://t.co/8m1W9rFwIh\n",
      "have a great game today @usarmy and @usnavy - i will be watching. we love our u.s. military. on behalf of an entire nation thank you for your sacrifice and service! #armynavygame #usa. \n",
      "\n",
      "It was my great honor to celebrate the opening of two extraordinary museums-the Mississippi State History Museum & the Mississippi Civil Rights Museum. We pay solemn tribute to our heroes of the past & dedicate ourselves to building a future of freedom equality justice & peace. https://t.co/5AkgVpV8aa\n",
      "it was my great honor to celebrate the opening of two extraordinary museums-the mississippi state history museum & the mississippi civil rights museum. we pay solemn tribute to our heroes of the past & dedicate ourselves to building a future of freedom equality justice & peace. \n",
      "\n",
      "Heading to the great state of Mississippi at the invitation of their popular and respected Governor @PhilBryantMS. Look forward to seeing the new Civil Rights Museum!\n",
      "heading to the great state of mississippi at the invitation of their popular and respected governor @philbryantms. look forward to seeing the new civil rights museum! \n",
      "\n",
      "CNN’S slogan is CNN THE MOST TRUSTED NAME IN NEWS. Everyone knows this is not true that this could in fact be a fraud on the American Public. There are many outlets that are far more trusted than Fake News CNN. Their slogan should be CNN THE LEAST TRUSTED NAME IN NEWS!\n",
      "cnns slogan is cnn the most trusted name in news. everyone knows this is not true that this could in fact be a fraud on the american public. there are many outlets that are far more trusted than fake news cnn. their slogan should be cnn the least trusted name in news! \n",
      "\n",
      "Fake News CNN made a vicious and purposeful mistake yesterday. They were caught red handed just like lonely Brian Ross at ABC News (who should be immediately fired for his “mistake”). Watch to see if @CNN fires those responsible or was it just gross incompetence?\n",
      "fake news cnn made a vicious and purposeful mistake yesterday. they were caught red handed just like lonely brian ross at abc news who should be immediately fired for his mistake . watch to see if @cnn fires those responsible or was it just gross incompetence? \n",
      "\n",
      "A big contingent of very enthusiastic Roy Moore fans at the rally last night. We can’t have a Pelosi/Schumer Liberal Democrat Jones in that important Alabama Senate seat. Need your vote to Make America Great Again! Jones will always vote against what we must do for our Country.\n",
      "a big contingent of very enthusiastic roy moore fans at the rally last night. we cant have a pelosi schumer liberal democrat jones in that important alabama senate seat. need your vote to make america great again! jones will always vote against what we must do for our country. \n",
      "\n",
      "GREAT EVENING last night in Pensacola Florida. Arena was packed to the rafters the crowd was loud loving and really smart. They definitely get what’s going on. Thank you Pensacola!\n",
      "great evening last night in pensacola florida. arena was packed to the rafters the crowd was loud loving and really smart. they definitely get whats going on. thank you pensacola! \n",
      "\n",
      "We believe that every American should stand for the National Anthem and we proudly pledge allegiance to one NATION UNDER GOD! https://t.co/r2ITtWwfVs\n",
      "we believe that every american should stand for the national anthem and we proudly pledge allegiance to one nation under god! \n",
      "\n",
      "This is your land this is your home and it's your voice that matters the most. So speak up be heard and fight fight fight for the change you've been waiting for your entire life!MERRY CHRISTMAS and THANK YOU Pensacola Florida! https://t.co/geWGzpzRp6\n",
      "this is your land this is your home and it s your voice that matters the most. so speak up be heard and fight fight fight for the change you ve been waiting for your entire life!merry christmas and thank you pensacola florida! \n",
      "\n",
      "Just arrived at the Pensacola Bay Center. Join me LIVE on @FoxNews in 10 minutes! #MAGA https://t.co/RQFqOkcpNV\n",
      "just arrived at the pensacola bay center. join me live on @foxnews in 10 minutes! #maga. \n",
      "\n",
      "On my way to Pensacola Florida. See everyone soon! #MAGA https://t.co/ijwxVSYQ52\n",
      "on my way to pensacola florida. see everyone soon! #maga. \n",
      "\n",
      "“The unemployment rate remains at a 17-year low of 4.1%. The unemployment rate in manufacturing dropped to 2.6% the lowest ever recorded. The unemployment rate among Hispanics dropped to 4.7% the lowest ever recorded...”@SecretaryAcosta @USDOL https://t.co/vou28s0yHN\n",
      "the unemployment rate remains at a 17-year low of 4.1 . the unemployment rate in manufacturing dropped to 2.6 the lowest ever recorded. the unemployment rate among hispanics dropped to 4.7 the lowest ever recorded...@secretaryacosta @usdol. \n",
      "\n",
      "MAKE AMERICA GREAT AGAIN! https://t.co/64a93S07s7\n",
      "make america great again! \n",
      "\n",
      "Fines and penalties against Wells Fargo Bank for their bad acts against their customers and others will not be dropped as has incorrectly been reported but will be pursued and if anything substantially increased. I will cut Regs but make penalties severe when caught cheating!\n",
      "fines and penalties against wells fargo bank for their bad acts against their customers and others will not be dropped as has incorrectly been reported but will be pursued and if anything substantially increased. i will cut regs but make penalties severe when caught cheating! \n",
      "\n",
      "LAST thing the Make America Great Again Agenda needs is a Liberal Democrat in Senate where we have so little margin for victory already. The Pelosi/Schumer Puppet Jones would vote against us 100% of the time. He’s bad on Crime Life Border Vets Guns &amp; Military. VOTE ROY MOORE!\n",
      "last thing the make america great again agenda needs is a liberal democrat in senate where we have so little margin for victory already. the pelosi schumer puppet jones would vote against us 100 of the time. hes bad on crime life border vets guns & military. vote roy moore! \n",
      "\n",
      "Big crowd expected today in Pensacola Florida for a Make America Great Again speech. We have done so much in so short a period of time...and yet are planning to do so much more! See you there!\n",
      "big crowd expected today in pensacola florida for a make america great again speech. we have done so much in so short a period of time...and yet are planning to do so much more! see you there! \n",
      "\n",
      "I fulfilled my campaign promise - others didn’t! https://t.co/bYdaOHmPVJ\n",
      "i fulfilled my campaign promise - others didnt! \n",
      "\n",
      "Tonight @FLOTUS Melania and I were thrilled to welcome so many wonderful friends to the @WhiteHouse – and wish them all a very #HappyHanukkahhttps://t.co/wyPkpTsP1i https://t.co/XhNXZSBEC8\n",
      "tonight @flotus melania and i were thrilled to welcome so many wonderful friends to the @whitehouse and wish them all a very #happyhanukkah. \n",
      "\n",
      "Across the battlefields oceans and harrowing skies of Europe and the Pacific throughout the war one great battle cry could be heard by America’s friends and foes alike:“REMEMBER PEARL HARBOR.” https://t.co/dfev02TwIr\n",
      "across the battlefields oceans and harrowing skies of europe and the pacific throughout the war one great battle cry could be heard by americas friends and foes alike:remember pearl harbor. \n",
      "\n",
      "Today as we Remember Pearl Harbor it was an incredible honor to be joined with surviving Veterans of the attack on 12/7/1941. They are HEROES and they are living witnesses to American History. All American hearts are filled with gratitude for their service and their sacrifice. https://t.co/x5LDl25o30\n",
      "today as we remember pearl harbor it was an incredible honor to be joined with surviving veterans of the attack on 12 7 1941. they are heroes and they are living witnesses to american history. all american hearts are filled with gratitude for their service and their sacrifice. \n",
      "\n",
      "Today the U.S. flag flies at half-staff at the @WhiteHouse in honor of National Pearl Harbor Remembrance Day. https://t.co/LkXsBx2JF8 https://t.co/ogmpydr5LK\n",
      "today the u.s. flag flies at half-staff at the @whitehouse in honor of national pearl harbor remembrance day. \n",
      "\n",
      "Today our entire nation pauses to REMEMBER PEARL HARBOR—and the brave warriors who on that day stood tall and fought for America. God Bless our HEROES who wear the uniform and God Bless the United States of America. #PearlHarborRemembranceDay🇺🇸 https://t.co/qGhlsPlxtH\n",
      "today our entire nation pauses to remember pearl harborand the brave warriors who on that day stood tall and fought for america. god bless our heroes who wear the uniform and god bless the united states of america. #pearlharborremembranceday. \n",
      "\n",
      "National Pearl Harbor Remembrance Day - “A day that will live in infamy!” December 7 1941\n",
      "national pearl harbor remembrance day - a day that will live in infamy! december 7 1941. \n",
      "\n",
      "Go get the new book on Andrew Jackson by Brian Kilmeade...Really good. @foxandfriends\n",
      "go get the new book on andrew jackson by brian kilmeade...really good. @foxandfriends. \n",
      "\n",
      "I have determined that it is time to officially recognize Jerusalem as the capital of Israel. I am also directing the State Department to begin preparation to move the American Embassy from Tel Aviv to Jerusalem... https://t.co/YwgWmT0O8m\n",
      "i have determined that it is time to officially recognize jerusalem as the capital of israel. i am also directing the state department to begin preparation to move the american embassy from tel aviv to jerusalem... \n",
      "\n",
      "Join me live from the @WhiteHouse via #Periscopehttps://t.co/wLXKoISSTG\n",
      "join me live from the @whitehouse via #periscope. \n",
      "\n",
      "Our thoughts and prayers are with everyone in the path of California’s wildfires. I encourage everyone to heed the advice and orders of local and state officials. THANK YOU to all First Responders for your incredible work! https://t.co/g9y9PkB352\n",
      "our thoughts and prayers are with everyone in the path of californias wildfires. i encourage everyone to heed the advice and orders of local and state officials. thank you to all first responders for your incredible work! \n",
      "\n",
      "MAKE AMERICA GREAT AGAIN!\n",
      "make america great again! \n",
      "\n",
      "Join me this Friday in Pensacola Florida at the Pensacola Bay Center! Tickets: https://t.co/zA7SGgWqBE https://t.co/QzFdxQdgAL\n",
      "join me this friday in pensacola florida at the pensacola bay center! tickets:. \n",
      "\n",
      "Yesterday I was thrilled to be with so many WONDERFUL friends in Utah’s MAGNIFICENT Capitol.It was my honor to sign two Presidential Proclamations that will modify the national monuments designations of both Bears Ears and Grand Staircase Escalante...https://t.co/jiTHcPovCi https://t.co/dIpdAUVoRB\n",
      "yesterday i was thrilled to be with so many wonderful friends in utahs magnificent capitol.it was my honor to sign two presidential proclamations that will modify the national monuments designations of both bears ears and grand staircase escalante... \n",
      "\n",
      "A must watch: Legal Scholar Alan Dershowitz was just on @foxandfriends talking of what is going on with respect to the greatest Witch Hunt in U.S. political history. Enjoy!\n",
      "a must watch: legal scholar alan dershowitz was just on @foxandfriends talking of what is going on with respect to the greatest witch hunt in u.s. political history. enjoy! \n",
      "\n",
      "With the great vote on Cutting Taxes this could be a big day for the Stock Market - and YOU!\n",
      "with the great vote on cutting taxes this could be a big day for the stock market - and you! \n",
      "\n",
      "Putting Pelosi/Schumer Liberal Puppet Jones into office in Alabama would hurt our great Republican Agenda of low on taxes tough on crime strong on military and borders...&amp; so much more. Look at your 401-k’s since Election. Highest Stock Market EVER! Jobs are roaring back!\n",
      "putting pelosi schumer liberal puppet jones into office in alabama would hurt our great republican agenda of low on taxes tough on crime strong on military and borders...& so much more. look at your 401-ks since election. highest stock market ever! jobs are roaring back! \n",
      "\n",
      "Democrats refusal to give even one vote for massive Tax Cuts is why we need Republican Roy Moore to win in Alabama. We need his vote on stopping crime illegal immigration Border Wall Military Pro Life V.A. Judges 2nd Amendment and more. No to Jones a Pelosi/Schumer Puppet!\n",
      "democrats refusal to give even one vote for massive tax cuts is why we need republican roy moore to win in alabama. we need his vote on stopping crime illegal immigration border wall military pro life v.a. judges 2nd amendment and more. no to jones a pelosi schumer puppet! \n",
      "\n",
      "Report: “ANTI-TRUMP FBI AGENT LED CLINTON EMAIL PROBE”  Now it all starts to make sense!\n",
      "report: anti-trump fbi agent led clinton email probe now it all starts to make sense! \n",
      "\n",
      "People who lost money when the Stock Market went down 350 points based on the False and Dishonest reporting of Brian Ross of @ABC News (he has been suspended) should consider hiring a lawyer and suing ABC for the damages this bad reporting has caused - many millions of dollars!\n",
      "people who lost money when the stock market went down 350 points based on the false and dishonest reporting of brian ross of @abc news he has been suspended should consider hiring a lawyer and suing abc for the damages this bad reporting has caused - many millions of dollars! \n",
      "\n",
      "After years of Comey with the phony and dishonest Clinton investigation (and more) running the FBI its reputation is in Tatters - worst in History! But fear not we will bring it back to greatness.\n",
      "after years of comey with the phony and dishonest clinton investigation and more running the fbi its reputation is in tatters - worst in history! but fear not we will bring it back to greatness. \n",
      "\n",
      "Tainted (no very dishonest?) FBI “agent’s role in Clinton probe under review.” Led Clinton Email probe. @foxandfriends  Clinton money going to wife of another FBI agent in charge.\n",
      "tainted no very dishonest? fbi agents role in clinton probe under review. led clinton email probe. @foxandfriends clinton money going to wife of another fbi agent in charge. \n",
      "\n",
      "Such a total miscarriage of Justice in San Francisco! https://t.co/MSIkBCKF3t\n",
      "such a total miscarriage of justice in san francisco! \n",
      "\n",
      "I never asked Comey to stop investigating Flynn. Just more Fake News covering another Comey lie!\n",
      "i never asked comey to stop investigating flynn. just more fake news covering another comey lie! \n",
      "\n",
      "Congratulations to @ABC News for suspending Brian Ross for his horrendously inaccurate and dishonest report on the Russia Russia Russia Witch Hunt. More Networks and “papers” should do the same with their Fake News!\n",
      "congratulations to @abc news for suspending brian ross for his horrendously inaccurate and dishonest report on the russia russia russia witch hunt. more networks and papers should do the same with their fake news! \n",
      "\n",
      "Many people in our Country are asking what the “Justice” Department is going to do about the fact that totally Crooked Hillary AFTER receiving a subpoena from the United States Congress deleted and “acid washed” 33000 Emails? No justice!\n",
      "many people in our country are asking what the justice department is going to do about the fact that totally crooked hillary after receiving a subpoena from the united states congress deleted and acid washed 33000 emails? no justice! \n",
      "\n",
      "So General Flynn lies to the FBI and his life is destroyed while Crooked Hillary Clinton on that now famous FBI holiday “interrogation” with no swearing in and no recording lies many times...and nothing happens to her? Rigged system or just a double standard?\n",
      "so general flynn lies to the fbi and his life is destroyed while crooked hillary clinton on that now famous fbi holiday interrogation with no swearing in and no recording lies many times...and nothing happens to her? rigged system or just a double standard? \n",
      "\n",
      "Great job First Lady Melania! https://t.co/TRuvaftPcD\n",
      "great job first lady melania! \n",
      "\n",
      "62 years ago this week a brave seamstress in Montgomery Alabama uttered one word that changed history... https://t.co/eOvCBcMIKX\n",
      "62 years ago this week a brave seamstress in montgomery alabama uttered one word that changed history... \n",
      "\n",
      "I had to fire General Flynn because he lied to the Vice President and the FBI. He has pled guilty to those lies. It is a shame because his actions during the transition were lawful. There was nothing to hide!\n",
      "i had to fire general flynn because he lied to the vice president and the fbi. he has pled guilty to those lies. it is a shame because his actions during the transition were lawful. there was nothing to hide! \n",
      "\n",
      "Biggest Tax Bill and Tax Cuts in history just passed in the Senate. Now these great Republicans will be going for final passage. Thank you to House and Senate Republicans for your hard work and commitment!\n",
      "biggest tax bill and tax cuts in history just passed in the senate. now these great republicans will be going for final passage. thank you to house and senate republicans for your hard work and commitment! \n",
      "\n",
      "We are one step closer to delivering MASSIVE tax cuts for working families across America. Special thanks to @SenateMajLdr Mitch McConnell and Chairman @SenOrrinHatch for shepherding our bill through the Senate. Look forward to signing a final bill before Christmas! https://t.co/gmWTny3SfS\n",
      "we are one step closer to delivering massive tax cuts for working families across america. special thanks to @senatemajldr mitch mcconnell and chairman @senorrinhatch for shepherding our bill through the senate. look forward to signing a final bill before christmas! \n",
      "\n",
      "Economists on the TAX CUTS and JOBS ACT:“The enactment of a comprehensive overhaul - complete with a lower corporate tax rate - will IGNITE our ECONOMY with levels of GROWTH not SEEN IN GENERATIONS...” https://t.co/2vCBDtLh3C\n",
      "economists on the tax cuts and jobs act:the enactment of a comprehensive overhaul - complete with a lower corporate tax rate - will ignite our economy with levels of growth not seen in generations... \n",
      "\n",
      "The media has been speculating that I fired Rex Tillerson or that he would be leaving soon - FAKE NEWS! He’s not leaving and while we disagree on certain subjects (I call the final shots) we work well together and America is highly respected again!https://t.co/FrqiPLFJ1E\n",
      "the media has been speculating that i fired rex tillerson or that he would be leaving soon - fake news! hes not leaving and while we disagree on certain subjects i call the final shots we work well together and america is highly respected again! \n",
      "\n",
      "Republicans Senators are working hard to pass the biggest Tax Cuts in the history of our Country. The Bill is getting better and better. This is a once in a generation chance. Obstructionist Dems trying to block because they think it is too good and will not be given the credit!\n",
      "republicans senators are working hard to pass the biggest tax cuts in the history of our country. the bill is getting better and better. this is a once in a generation chance. obstructionist dems trying to block because they think it is too good and will not be given the credit! \n",
      "\n",
      "The jury was not told the killer of Kate was a 7 time felon. The Schumer/Pelosi Democrats are so weak on Crime that they will pay a big price in the 2018 and 2020 Elections.\n",
      "the jury was not told the killer of kate was a 7 time felon. the schumer pelosi democrats are so weak on crime that they will pay a big price in the 2018 and 2020 elections. \n",
      "\n",
      "The Kate Steinle killer came back and back over the weakly protected Obama border always committing crimes and being violent and yet this info was not used in court. His exoneration is a complete travesty of justice. BUILD THE WALL!\n",
      "the kate steinle killer came back and back over the weakly protected obama border always committing crimes and being violent and yet this info was not used in court. his exoneration is a complete travesty of justice. build the wall! \n",
      "\n",
      "A disgraceful verdict in the Kate Steinle case! No wonder the people of our Country are so angry with Illegal Immigration.\n",
      "a disgraceful verdict in the kate steinle case! no wonder the people of our country are so angry with illegal immigration. \n",
      "\n",
      "The Christmas Story begins 2000 years ago with a mother a father their baby son and the most extraordinary gift of all—the gift of God’s love for all of humanity.Whatever our beliefs we know that the birth of Jesus Christ and the story of his life... https://t.co/P94C3LjWlx\n",
      "the christmas story begins 2000 years ago with a mother a father their baby son and the most extraordinary gift of allthe gift of gods love for all of humanity.whatever our beliefs we know that the birth of jesus christ and the story of his life... \n",
      "\n",
      "Today is a day that I’ve been looking very much forward to ALL YEAR LONG. It is one that you have heard me speak about many times before. Now as President of the United States it is my tremendous honor to finally wish America and the world a very MERRY CHRISTMAS! https://t.co/cTvdlUkfHV\n",
      "today is a day that ive been looking very much forward to all year long. it is one that you have heard me speak about many times before. now as president of the united states it is my tremendous honor to finally wish america and the world a very merry christmas! \n",
      "\n",
      "Our FIFTH 1K milestone of 2017!#DOW24K #MAGA https://t.co/NoVt1uFp0y\n",
      "our fifth 1k milestone of 2017!#dow24k #maga. \n",
      "\n",
      "Today it was my great honor to meet with the Crown Prince of Bahrain at the @WhiteHouse. Bahrain and the United States are important partners.During the Crown Prince’s visit he is advancing $9 BILLION in commercial deals including finalizing the purchase of F-16’s... https://t.co/vYuw7UGYmN\n",
      "today it was my great honor to meet with the crown prince of bahrain at the @whitehouse. bahrain and the united states are important partners.during the crown princes visit he is advancing 9 billion in commercial deals including finalizing the purchase of f-16s... \n",
      "\n",
      "Thank you @SenOrrinHatch. Let’s continue MAKING AMERICA GREAT AGAIN! https://t.co/PIv9OAVZcf https://t.co/6egRvuwj1l\n",
      "thank you @senorrinhatch. lets continue making america great again! \n",
      "\n",
      "The Dow just broke 24000 for the first time (another all-time Record). If the Dems had won the Presidential Election the Market would be down 50% from these levels and Consumer Confidence which is also at an all-time high would be “low and glum!”\n",
      "the dow just broke 24000 for the first time another all-time record . if the dems had won the presidential election the market would be down 50 from these levels and consumer confidence which is also at an all-time high would be low and glum! \n",
      "\n",
      "Stock Market hits new Record High. Confidence and enthusiasm abound. More great numbers coming out!\n",
      "stock market hits new record high. confidence and enthusiasm abound. more great numbers coming out! \n",
      "\n",
      "The Chinese Envoy who just returned from North Korea seems to have had no impact on Little Rocket Man. Hard to believe his people and the military put up with living in such horrible conditions. Russia and China condemned the launch.\n",
      "the chinese envoy who just returned from north korea seems to have had no impact on little rocket man. hard to believe his people and the military put up with living in such horrible conditions. russia and china condemned the launch. \n",
      "\n",
      "The Failing @nytimes has totally gone against the Social Media Guidelines that they installed to preserve some credibility after many of their biased reporters went Rogue!  @foxandfriends\n",
      "the failing @nytimes has totally gone against the social media guidelines that they installed to preserve some credibility after many of their biased reporters went rogue! @foxandfriends. \n",
      "\n",
      "The Failing @nytimes the pipe organ for the Democrat Party has become a virtual lobbyist for them with regard to our massive Tax Cut Bill. They are wrong so often that now I know we have a winner!\n",
      "the failing @nytimes the pipe organ for the democrat party has become a virtual lobbyist for them with regard to our massive tax cut bill. they are wrong so often that now i know we have a winner! \n",
      "\n",
      "Funny to hear the Democrats talking about the National Debt when President Obama doubled it in only 8 years!\n",
      "funny to hear the democrats talking about the national debt when president obama doubled it in only 8 years! \n",
      "\n",
      "“Had the information (Crooked Hillary’s emails) been released there would have been harm to National Security....\"Charles McCulloughFmr Intel Comm Inspector General https://t.co/b0tLW5TVhX\n",
      "had the information crooked hillarys emails been released there would have been harm to national security.... charles mcculloughfmr intel comm inspector general. \n",
      "\n",
      "The only people who don’t like the Tax Cut Bill are the people that don’t understand it or the Obstructionist Democrats that know how really good it is and do not want the credit and success to go to the Republicans!\n",
      "the only people who dont like the tax cut bill are the people that dont understand it or the obstructionist democrats that know how really good it is and do not want the credit and success to go to the republicans! \n",
      "\n",
      "The House of Representatives seeks contempt citations(?) against the JusticeDepartment and the FBI for withholding key documents and an FBI witness which could shed light on surveillance of associates of Donald Trump. Big stuff. Deep State. Give this information NOW! @FoxNews\n",
      "the house of representatives seeks contempt citations ? against the justicedepartment and the fbi for withholding key documents and an fbi witness which could shed light on surveillance of associates of donald trump. big stuff. deep state. give this information now! @foxnews. \n",
      "\n",
      ".@Theresa_May don’t focus on me focus on the destructive Radical Islamic Terrorism that is taking place within the United Kingdom. We are doing just fine!\n",
      ".@theresa may dont focus on me focus on the destructive radical islamic terrorism that is taking place within the united kingdom. we are doing just fine! \n",
      "\n",
      "Theresa @theresamay don’t focus on me focus on the destructive Radical Islamic Terrorism that is taking place within the United Kingdom. We are doing just fine!\n",
      "theresa @theresamay dont focus on me focus on the destructive radical islamic terrorism that is taking place within the united kingdom. we are doing just fine! \n",
      "\n",
      "Now we have a once in a lifetime opportunity to RESTORE AMERICAN PROSPERITY – and RECLAIM AMERICA’S DESTINY.But in order to achieve this bright and glowing future the SENATE MUST PASS TAX CUTS – and bring Main Street roaring back to life!https://t.co/jMNwEMrbbr https://t.co/3Niu0thp1D\n",
      "now we have a once in a lifetime opportunity to restore american prosperity and reclaim americas destiny.but in order to achieve this bright and glowing future the senate must pass tax cuts and bring main street roaring back to life! \n",
      "\n",
      "A vote to CUT TAXES is a vote to PUT AMERICA FIRST. It is time to take care of OUR WORKERS to protect OUR COMMUNITIES and to REBUILD OUR GREAT COUNTRY! https://t.co/wW3QNxcCHf https://t.co/sRL2yRK6k2\n",
      "a vote to cut taxes is a vote to put america first. it is time to take care of our workers to protect our communities and to rebuild our great country! \n",
      "\n",
      "This week the Senate can join the House & take a strong stand for the Middle Class families who are the backbone of America. Together we will give the American people a big beautiful Christmas present-a massive tax cut that lets Americans keep more of their HARD-EARNED MONEY! https://t.co/9jddEW2Oo5\n",
      "this week the senate can join the house & take a strong stand for the middle class families who are the backbone of america. together we will give the american people a big beautiful christmas present-a massive tax cut that lets americans keep more of their hard-earned money! \n",
      "\n",
      "Departing @JBA_NAFW for St. Charles Missouri to help push our plan for HISTORIC TAX CUTS across the finish line.A successful vote in the Senate this week will bring us one giant step closer to delivering an incredible victory for the American people!https://t.co/jR1DEUnm2h https://t.co/XF9sRwdV8u\n",
      "departing @jba nafw for st. charles missouri to help push our plan for historic tax cuts across the finish line.a successful vote in the senate this week will bring us one giant step closer to delivering an incredible victory for the american people! \n",
      "\n",
      "Economy growing! Excluding hurricane effects CEA estimates that real GDP growth would have been 3.9% in Q3.Stock market at a new high unemployment at a low. We are winning and TAX CUTS will shift our economy into high gear! https://t.co/HrKIF72VqE\n",
      "economy growing! excluding hurricane effects cea estimates that real gdp growth would have been 3.9 in q3.stock market at a new high unemployment at a low. we are winning and tax cuts will shift our economy into high gear! \n",
      "\n",
      "Just spoke to President XI JINPING of China concerning the provocative actions of North Korea. Additional major sanctions will be imposed on North Korea today. This situation will be handled!\n",
      "just spoke to president xi jinping of china concerning the provocative actions of north korea. additional major sanctions will be imposed on north korea today. this situation will be handled! \n",
      "\n",
      "So now that Matt Lauer is gone when will the Fake News practitioners at NBC be terminating the contract of Phil Griffin? And will they terminate low ratings Joe Scarborough based on the “unsolved mystery” that took place in Florida years ago? Investigate!\n",
      "so now that matt lauer is gone when will the fake news practitioners at nbc be terminating the contract of phil griffin? and will they terminate low ratings joe scarborough based on the unsolved mystery that took place in florida years ago? investigate! \n",
      "\n"
     ]
    },
    {
     "data": {
      "text/plain": [
       "19457"
      ]
     },
     "execution_count": 225,
     "metadata": {},
     "output_type": "execute_result"
    }
   ],
   "source": [
    "# Build a set of characters to remove to reduce our vocab set\n",
    "chars_to_remove = {'\"', '$', '%', \"'\", '(', ')', '*', '+', '/', ';'\n",
    "                   #'0', '1', '2', '3', '4', '5', '6', '7', '8', '9', ':', '#',\n",
    "                   '<', '=', '>', '[', '\\\\', ']', '_', '`',  '{', '|', '}', '~'}\n",
    "# In 32,000 tweets he apparently never uses a comma, probably an artifact of CSV export.\n",
    "\n",
    "text = ''\n",
    "for i, tweet in enumerate(df[df.is_retweet == False].text):\n",
    "    print tweet\n",
    "    # Remove URLs\n",
    "    tweet = re.sub(r'http\\S+', '', tweet)\n",
    "    \n",
    "    # Fix ampersand HTML artifact\n",
    "    tweet = tweet.replace('&amp;', '&')\n",
    "    \n",
    "    # lower() to reduce pool of possible characters (lower-case's strings)\n",
    "    # the decode/encode step is to remove non-ascii characters like \n",
    "    tweet = tweet.lower().decode(\"ascii\", errors=\"ignore\").encode()\n",
    "\n",
    "    # Remove chars from our chars_to_remove set with list comprehension\n",
    "    for x in chars_to_remove:\n",
    "        tweet = tweet.replace(x, ' ')\n",
    "    #tweet = ''.join([x for x in tweet if x not in chars_to_remove]).rstrip()\n",
    "    \n",
    "    # If there's no tweet left (just a URL for example)\n",
    "    if not tweet:\n",
    "        continue\n",
    "        \n",
    "    # split and rejoin for odd spacing\n",
    "    tweet = ' '.join(tweet.split())        \n",
    "    \n",
    "    # Add period if no ending line or a space\n",
    "    if not tweet[-1] in ['.', '!', '?']:\n",
    "        tweet = tweet + '. '\n",
    "    else:\n",
    "        tweet += ' '\n",
    "    \n",
    "    print tweet\n",
    "\n",
    "    # Add to text (by redefining with +=)\n",
    "    text += tweet\n",
    "    \n",
    "    print\n",
    "    if i > 100: break\n",
    "    \n",
    "len(text)"
   ]
  },
  {
   "cell_type": "markdown",
   "metadata": {},
   "source": [
    "Create character set and mapping"
   ]
  },
  {
   "cell_type": "code",
   "execution_count": 220,
   "metadata": {},
   "outputs": [
    {
     "name": "stdout",
     "output_type": "stream",
     "text": [
      "Total chars: 45\n"
     ]
    }
   ],
   "source": [
    "chars = sorted(list(set(text)))\n",
    "print 'Total chars: {}'.format(len(chars))\n",
    "char_indices = dict((c, i) for i, c in enumerate(chars))\n",
    "indices_char = dict((i, c) for i, c in enumerate(chars))"
   ]
  },
  {
   "cell_type": "markdown",
   "metadata": {},
   "source": [
    "Cut text up into arbitrary sequences using a maximum length and a step size"
   ]
  },
  {
   "cell_type": "code",
   "execution_count": 62,
   "metadata": {},
   "outputs": [
    {
     "name": "stdout",
     "output_type": "stream",
     "text": [
      "('nb sequences:', 1103342)\n"
     ]
    }
   ],
   "source": [
    "maxlen = 40\n",
    "step = 3\n",
    "sentences = []\n",
    "next_chars = []\n",
    "for i in range(0, len(text) - maxlen, step):\n",
    "    sentences.append(text[i: i + maxlen])\n",
    "    next_chars.append(text[i + maxlen])\n",
    "print('nb sequences:', len(sentences))"
   ]
  },
  {
   "cell_type": "markdown",
   "metadata": {},
   "source": [
    "Vectorization of inputs\n",
    "\n",
    "- x: has dimensionality (num_sequences, maxlength, num_chars)\n",
    "- y: has dimensionality (num_sequences, num_chars)\n",
    "\n",
    "A sequence in `x` is represented as a 2d matrix of `maxlength` by `num_chars`. This means each row corresponds to what character in the possible character set, with every value being 0 except for a 1 in the position corresponding to the character. For example, the letter 'a' corresponds to the 5th position (column) in the matrix. "
   ]
  },
  {
   "cell_type": "code",
   "execution_count": 66,
   "metadata": {},
   "outputs": [
    {
     "data": {
      "text/plain": [
       "5"
      ]
     },
     "execution_count": 66,
     "metadata": {},
     "output_type": "execute_result"
    }
   ],
   "source": [
    "# Example from above\n",
    "char_indices['a']"
   ]
  },
  {
   "cell_type": "code",
   "execution_count": 67,
   "metadata": {},
   "outputs": [],
   "source": [
    "# Start by creating arrays of zeros with our final dimensionality\n",
    "x = np.zeros((len(sentences), maxlen, len(chars)), dtype=np.bool)\n",
    "y = np.zeros((len(sentences), len(chars)), dtype=np.bool)\n",
    "for i, sentence in enumerate(sentences):\n",
    "    for t, char in enumerate(sentence):\n",
    "        x[i, t, char_indices[char]] = 1\n",
    "    y[i, char_indices[next_chars[i]]] = 1"
   ]
  },
  {
   "cell_type": "markdown",
   "metadata": {},
   "source": [
    "## Model\n",
    "\n",
    "We'll build a simple LSTM model to start with that will likely need to be tweaked to get better results"
   ]
  },
  {
   "cell_type": "code",
   "execution_count": 71,
   "metadata": {},
   "outputs": [],
   "source": [
    "# Simplest model abstraction is Sequential\n",
    "model = Sequential()\n",
    "# Add LSTM layer with 256 memory units\n",
    "model.add(LSTM(256, input_shape=(maxlen, len(chars))))\n",
    "# Add Dropout layer at 20% node dropout (avoids overfitting)\n",
    "model.add(Dropout(0.2))\n",
    "# Add final Dense layer which corresponds to each of our characters\n",
    "model.add(Dense(len(chars), activation='softmax'))\n",
    "# Compile the model \n",
    "model.compile(loss='categorical_crossentropy', optimizer='adam')"
   ]
  },
  {
   "cell_type": "markdown",
   "metadata": {},
   "source": [
    "# Training"
   ]
  },
  {
   "cell_type": "markdown",
   "metadata": {},
   "source": [
    "We'll use checkpointing and select the final with the lowest loss"
   ]
  },
  {
   "cell_type": "code",
   "execution_count": 72,
   "metadata": {},
   "outputs": [],
   "source": [
    "path = \"model/weights-improvement-{epoch:02d}-{loss:.4f}.hdf5\"\n",
    "checkpoint = ModelCheckpoint(path, monitor='loss', verbose=1, save_best_only=True, mode='min')\n",
    "callbacks_list = [checkpoint]"
   ]
  },
  {
   "cell_type": "markdown",
   "metadata": {},
   "source": [
    "Fit the model"
   ]
  },
  {
   "cell_type": "code",
   "execution_count": 74,
   "metadata": {
    "scrolled": false
   },
   "outputs": [
    {
     "name": "stdout",
     "output_type": "stream",
     "text": [
      "Epoch 1/20\n",
      "1103232/1103342 [============================>.] - ETA: 0s - loss: 1.9921Epoch 00000: loss improved from inf to 1.99209, saving model to model/weights-improvement-00-1.9921.hdf5\n",
      "1103342/1103342 [==============================] - 4964s - loss: 1.9921  \n",
      "Epoch 2/20\n",
      "1103232/1103342 [============================>.] - ETA: 0s - loss: 1.6542Epoch 00001: loss improved from 1.99209 to 1.65414, saving model to model/weights-improvement-01-1.6541.hdf5\n",
      "1103342/1103342 [==============================] - 4997s - loss: 1.6541  \n",
      "Epoch 3/20\n",
      "1103232/1103342 [============================>.] - ETA: 0s - loss: 1.5536Epoch 00002: loss improved from 1.65414 to 1.55363, saving model to model/weights-improvement-02-1.5536.hdf5\n",
      "1103342/1103342 [==============================] - 5013s - loss: 1.5536  \n",
      "Epoch 4/20\n",
      "1103232/1103342 [============================>.] - ETA: 0s - loss: 1.4998Epoch 00003: loss improved from 1.55363 to 1.49980, saving model to model/weights-improvement-03-1.4998.hdf5\n",
      "1103342/1103342 [==============================] - 5012s - loss: 1.4998  \n",
      "Epoch 5/20\n",
      "1103232/1103342 [============================>.] - ETA: 0s - loss: 1.4643Epoch 00004: loss improved from 1.49980 to 1.46430, saving model to model/weights-improvement-04-1.4643.hdf5\n",
      "1103342/1103342 [==============================] - 5029s - loss: 1.4643  \n",
      "Epoch 6/20\n",
      "1103232/1103342 [============================>.] - ETA: 0s - loss: 1.4385Epoch 00005: loss improved from 1.46430 to 1.43851, saving model to model/weights-improvement-05-1.4385.hdf5\n",
      "1103342/1103342 [==============================] - 5333s - loss: 1.4385  \n",
      "Epoch 7/20\n",
      "1103232/1103342 [============================>.] - ETA: 0s - loss: 1.4198Epoch 00006: loss improved from 1.43851 to 1.41984, saving model to model/weights-improvement-06-1.4198.hdf5\n",
      "1103342/1103342 [==============================] - 5160s - loss: 1.4198  \n",
      "Epoch 8/20\n",
      "1103232/1103342 [============================>.] - ETA: 0s - loss: 1.4038Epoch 00007: loss improved from 1.41984 to 1.40383, saving model to model/weights-improvement-07-1.4038.hdf5\n",
      "1103342/1103342 [==============================] - 5040s - loss: 1.4038  \n",
      "Epoch 9/20\n",
      "1103232/1103342 [============================>.] - ETA: 0s - loss: 1.3913Epoch 00008: loss improved from 1.40383 to 1.39125, saving model to model/weights-improvement-08-1.3913.hdf5\n",
      "1103342/1103342 [==============================] - 4892s - loss: 1.3913  \n",
      "Epoch 10/20\n",
      "1103232/1103342 [============================>.] - ETA: 0s - loss: 1.3810Epoch 00009: loss improved from 1.39125 to 1.38096, saving model to model/weights-improvement-09-1.3810.hdf5\n",
      "1103342/1103342 [==============================] - 4955s - loss: 1.3810  \n",
      "Epoch 11/20\n",
      "1103232/1103342 [============================>.] - ETA: 0s - loss: 1.3714Epoch 00010: loss improved from 1.38096 to 1.37143, saving model to model/weights-improvement-10-1.3714.hdf5\n",
      "1103342/1103342 [==============================] - 4963s - loss: 1.3714  \n",
      "Epoch 12/20\n",
      "1103232/1103342 [============================>.] - ETA: 0s - loss: 1.3637Epoch 00011: loss improved from 1.37143 to 1.36368, saving model to model/weights-improvement-11-1.3637.hdf5\n",
      "1103342/1103342 [==============================] - 4965s - loss: 1.3637  \n",
      "Epoch 13/20\n",
      "1103232/1103342 [============================>.] - ETA: 0s - loss: 1.3572Epoch 00012: loss improved from 1.36368 to 1.35717, saving model to model/weights-improvement-12-1.3572.hdf5\n",
      "1103342/1103342 [==============================] - 4977s - loss: 1.3572  \n",
      "Epoch 14/20\n",
      "1103232/1103342 [============================>.] - ETA: 0s - loss: 1.3503Epoch 00013: loss improved from 1.35717 to 1.35028, saving model to model/weights-improvement-13-1.3503.hdf5\n",
      "1103342/1103342 [==============================] - 4984s - loss: 1.3503  \n",
      "Epoch 15/20\n",
      "1103232/1103342 [============================>.] - ETA: 0s - loss: 1.3453Epoch 00014: loss improved from 1.35028 to 1.34526, saving model to model/weights-improvement-14-1.3453.hdf5\n",
      "1103342/1103342 [==============================] - 4985s - loss: 1.3453  \n",
      "Epoch 16/20\n",
      "1103232/1103342 [============================>.] - ETA: 0s - loss: 1.3403Epoch 00015: loss improved from 1.34526 to 1.34032, saving model to model/weights-improvement-15-1.3403.hdf5\n",
      "1103342/1103342 [==============================] - 4977s - loss: 1.3403  \n",
      "Epoch 17/20\n",
      "1103232/1103342 [============================>.] - ETA: 0s - loss: 1.3352Epoch 00016: loss improved from 1.34032 to 1.33524, saving model to model/weights-improvement-16-1.3352.hdf5\n",
      "1103342/1103342 [==============================] - 5086s - loss: 1.3352  \n",
      "Epoch 18/20\n",
      "1103232/1103342 [============================>.] - ETA: 0s - loss: 1.3316Epoch 00017: loss improved from 1.33524 to 1.33162, saving model to model/weights-improvement-17-1.3316.hdf5\n",
      "1103342/1103342 [==============================] - 5531s - loss: 1.3316  \n",
      "Epoch 19/20\n",
      "1103232/1103342 [============================>.] - ETA: 0s - loss: 1.3278Epoch 00018: loss improved from 1.33162 to 1.32780, saving model to model/weights-improvement-18-1.3278.hdf5\n",
      "1103342/1103342 [==============================] - 5710s - loss: 1.3278  \n",
      "Epoch 20/20\n",
      "1103232/1103342 [============================>.] - ETA: 0s - loss: 1.3244Epoch 00019: loss improved from 1.32780 to 1.32448, saving model to model/weights-improvement-19-1.3245.hdf5\n",
      "1103342/1103342 [==============================] - 5804s - loss: 1.3245  \n"
     ]
    },
    {
     "data": {
      "text/plain": [
       "<keras.callbacks.History at 0x17fbc2d10>"
      ]
     },
     "execution_count": 74,
     "metadata": {},
     "output_type": "execute_result"
    }
   ],
   "source": [
    "model.fit(x, y, epochs=20, batch_size=128, callbacks=callbacks_list)"
   ]
  },
  {
   "cell_type": "markdown",
   "metadata": {},
   "source": [
    "# Text Generation"
   ]
  },
  {
   "cell_type": "markdown",
   "metadata": {},
   "source": [
    "Load model with weights corresponding to smallest loss"
   ]
  },
  {
   "cell_type": "code",
   "execution_count": 76,
   "metadata": {},
   "outputs": [],
   "source": [
    "weights = 'model/weights-improvement-19-1.3245.hdf5'\n",
    "model.load_weights(weights)\n",
    "model.compile(loss='categorical_crossentropy', optimizer='adam')"
   ]
  },
  {
   "cell_type": "markdown",
   "metadata": {},
   "source": [
    "Pull out random seed"
   ]
  },
  {
   "cell_type": "code",
   "execution_count": 125,
   "metadata": {},
   "outputs": [
    {
     "name": "stdout",
     "output_type": "stream",
     "text": [
      "Generating with seed: ut the weather. no wonder their ratings \n",
      "\n"
     ]
    }
   ],
   "source": [
    "start_index = np.random.randint(0, len(text) - maxlen - 1)\n",
    "\n",
    "generated = ''\n",
    "sentence = text[start_index: start_index + maxlen]\n",
    "generated += sentence\n",
    "print 'Generating with seed: {}\\n'.format(sentence)"
   ]
  },
  {
   "cell_type": "code",
   "execution_count": null,
   "metadata": {},
   "outputs": [],
   "source": [
    "def sample(preds, temperature=1.0):\n",
    "    # helper function to sample an index from a probability array\n",
    "    preds = np.asarray(preds).astype('float64')\n",
    "    preds = np.log(preds) / temperature\n",
    "    exp_preds = np.exp(preds)\n",
    "    preds = exp_preds / np.sum(exp_preds)\n",
    "    probas = np.random.multinomial(1, preds, 1)\n",
    "    return np.argmax(probas)"
   ]
  },
  {
   "cell_type": "markdown",
   "metadata": {},
   "source": [
    "Generate text from seed"
   ]
  },
  {
   "cell_type": "code",
   "execution_count": 126,
   "metadata": {},
   "outputs": [
    {
     "name": "stdout",
     "output_type": "stream",
     "text": [
      "ut the weather. no wonder their ratings and the state of the world and the state of the world in the world in the world with the state of the best thing i would be a great thing is the only one of the great state of the world in the world in the world in the world with the presidential beautiful and a great time to be a great time to be a great time to be a great time to be a great time to be a great time to be a great time to be a grea"
     ]
    }
   ],
   "source": [
    "sys.stdout.write(generated)\n",
    "diversity = 0.1\n",
    "for i in range(400):\n",
    "    # Convert text seed to input\n",
    "    x_pred = np.zeros((1, maxlen, len(chars)))\n",
    "    for t, char in enumerate(sentence):\n",
    "        x_pred[0, t, char_indices[char]] = 1.\n",
    "    \n",
    "    # Make prediction with model\n",
    "    preds = model.predict(x_pred, verbose=0)[0]\n",
    "    next_index = sample(preds, diversity)\n",
    "    next_char = indices_char[next_index]\n",
    "    \n",
    "    #print next_char\n",
    "    # Generate text\n",
    "    generated += next_char\n",
    "    sentence = sentence[1:] + next_char\n",
    "    sys.stdout.write(next_char)\n",
    "    sys.stdout.flush()\n",
    "    #break"
   ]
  }
 ],
 "metadata": {
  "kernelspec": {
   "display_name": "Python 2",
   "language": "python",
   "name": "python2"
  },
  "language_info": {
   "codemirror_mode": {
    "name": "ipython",
    "version": 2
   },
   "file_extension": ".py",
   "mimetype": "text/x-python",
   "name": "python",
   "nbconvert_exporter": "python",
   "pygments_lexer": "ipython2",
   "version": "2.7.11"
  }
 },
 "nbformat": 4,
 "nbformat_minor": 2
}
