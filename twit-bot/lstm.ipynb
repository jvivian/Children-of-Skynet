{
 "cells": [
  {
   "cell_type": "markdown",
   "metadata": {},
   "source": [
    "Requirements \n",
    "\n",
    "- Tensorflow, if you have anaconda `conda install tensorflow`\n",
    "- `pip install -y pandas numpy keras`"
   ]
  },
  {
   "cell_type": "code",
   "execution_count": 227,
   "metadata": {},
   "outputs": [],
   "source": [
    "# Data\n",
    "import pandas as pd\n",
    "import numpy as np\n",
    "import sys\n",
    "import re\n",
    "import os\n",
    "\n",
    "# Keras\n",
    "from keras.models import Sequential\n",
    "from keras.layers import Dense\n",
    "from keras.layers import Dropout\n",
    "from keras.layers import LSTM\n",
    "from keras.callbacks import ModelCheckpoint\n",
    "from keras.utils import np_utils"
   ]
  },
  {
   "cell_type": "markdown",
   "metadata": {},
   "source": [
    "## Inputs"
   ]
  },
  {
   "cell_type": "code",
   "execution_count": 2,
   "metadata": {
    "scrolled": true
   },
   "outputs": [
    {
     "data": {
      "text/html": [
       "<div>\n",
       "<style>\n",
       "    .dataframe thead tr:only-child th {\n",
       "        text-align: right;\n",
       "    }\n",
       "\n",
       "    .dataframe thead th {\n",
       "        text-align: left;\n",
       "    }\n",
       "\n",
       "    .dataframe tbody tr th {\n",
       "        vertical-align: top;\n",
       "    }\n",
       "</style>\n",
       "<table border=\"1\" class=\"dataframe\">\n",
       "  <thead>\n",
       "    <tr style=\"text-align: right;\">\n",
       "      <th></th>\n",
       "      <th>source</th>\n",
       "      <th>text</th>\n",
       "      <th>created</th>\n",
       "      <th>retweets</th>\n",
       "      <th>favorites</th>\n",
       "      <th>is_retweet</th>\n",
       "      <th>id</th>\n",
       "    </tr>\n",
       "  </thead>\n",
       "  <tbody>\n",
       "    <tr>\n",
       "      <th>0</th>\n",
       "      <td>Twitter for iPhone</td>\n",
       "      <td>RT @GOPChairwoman: .@realDonaldTrump is the Pa...</td>\n",
       "      <td>12-14-2017 23:26:54</td>\n",
       "      <td>4262</td>\n",
       "      <td>0</td>\n",
       "      <td>True</td>\n",
       "      <td>941449449850761217</td>\n",
       "    </tr>\n",
       "    <tr>\n",
       "      <th>1</th>\n",
       "      <td>Twitter for iPhone</td>\n",
       "      <td>“Manufacturing Optimism Rose to Another All-Ti...</td>\n",
       "      <td>12-14-2017 21:20:51</td>\n",
       "      <td>4789</td>\n",
       "      <td>19906</td>\n",
       "      <td>False</td>\n",
       "      <td>941417725833998340</td>\n",
       "    </tr>\n",
       "  </tbody>\n",
       "</table>\n",
       "</div>"
      ],
      "text/plain": [
       "               source                                               text  \\\n",
       "0  Twitter for iPhone  RT @GOPChairwoman: .@realDonaldTrump is the Pa...   \n",
       "1  Twitter for iPhone  “Manufacturing Optimism Rose to Another All-Ti...   \n",
       "\n",
       "               created  retweets  favorites  is_retweet                  id  \n",
       "0  12-14-2017 23:26:54      4262          0        True  941449449850761217  \n",
       "1  12-14-2017 21:20:51      4789      19906       False  941417725833998340  "
      ]
     },
     "execution_count": 2,
     "metadata": {},
     "output_type": "execute_result"
    }
   ],
   "source": [
    "df = pd.read_csv('data/tweets-fixed.tsv', sep='\\t', index_col=0)\n",
    "df.head(2)"
   ]
  },
  {
   "cell_type": "code",
   "execution_count": 290,
   "metadata": {
    "scrolled": true
   },
   "outputs": [
    {
     "name": "stdout",
     "output_type": "stream",
     "text": [
      "RT @GOPChairwoman: .@realDonaldTrump is the Paycheck President. Learn how the tax bill will put more money in your pocket &amp; how to contact…\n",
      "\n",
      "“Manufacturing Optimism Rose to Another All-Time High in the Latest @ShopFloorNAM Outlook Survey” https://t.co/LuV4BMp0Xc\n",
      "\n",
      "In 1960 there were approximately 20000 pages in the Code of Federal Regulations. Today there are over 185000 pages as seen in the Roosevelt Room.Today we CUT THE RED TAPE! It is time to SET FREE OUR DREAMS and MAKE AMERICA GREAT AGAIN! https://t.co/teAVNzjvcx\n",
      "\n",
      "When Americans are free to thrive innovate & prosper there is no challenge too great no task too large & no goal beyond our reach. We are a nation of explorers pioneers innovators & inventors. We are nation of people who work hard dream big & who never ever give up... https://t.co/9LVdp6zOgZ\n",
      "\n",
      "Today we gathered in the Roosevelt Room for one single reason: to CUT THE RED TAPE! For many decades an ever-growing maze of regs rules and restrictions has cost our country trillions of dollars millions of jobs countless American factories & devastated entire industries. https://t.co/ostXOVnckf\n",
      "\n",
      "As a candidate I promised we would pass a massive tax cut for the everyday working Americans. If you make your voices heard this moment will be forever remembered as a great new beginning – the dawn of a brilliant American future shining with PATRIOTISM PROSPERITY AND PRIDE! https://t.co/exsBzrlCdw\n",
      "\n",
      "Republican Tax Cuts are looking very good. All are working hard. In the meantime the Stock Market hit another record high!\n",
      "\n",
      "Thank you Omarosa for your service! I wish you continued success.\n",
      "\n",
      "If last night’s election proved anything it proved that we need to put up GREAT Republican candidates to increase the razor thin margins in both the House and Senate.\n",
      "\n",
      "Wow more than 90% of Fake News Media coverage of me is negative with numerous forced retractions of untrue stories. Hence my use of Social Media the only way to get the truth out. Much of Mainstream Meadia has become a joke! @foxandfriends\n",
      "\n",
      "The reason I originally endorsed Luther Strange (and his numbers went up mightily) is that I said Roy Moore will not be able to win the General Election.  I was right! Roy worked hard but the deck was stacked against him!\n",
      "\n",
      "Congratulations to Doug Jones on a hard fought victory. The write-in votes played a very big factor but a win is a win. The people of Alabama are great and the Republicans will have another shot at this seat in a very short period of time. It never ends!\n",
      "\n",
      "Wishing all of those celebrating #Hanukkah around the world a happy and healthy eight nights in the company of those they love. https://t.co/A5W0PDWBxp https://t.co/D9MVVPq39x\n",
      "\n",
      "Consumer Confidence is at an All-Time High along with a Record High Stock Market. Unemployment is at a 17 year low. MAKE AMERICA GREAT AGAIN! Working to pass MASSIVE TAX CUTS (looking good).\n",
      "\n",
      "The people of Alabama will do the right thing. Doug Jones is Pro-Abortion weak on Crime Military and Illegal Immigration Bad for Gun Owners and Veterans and against the WALL. Jones is a Pelosi/Schumer Puppet. Roy Moore will always vote with us. VOTE ROY MOORE!\n",
      "\n",
      "Lightweight Senator Kirsten Gillibrand a total flunky for Chuck Schumer and someone who would come to my office “begging” for campaign contributions not so long ago (and would do anything for them) is now in the ring fighting against Trump. Very disloyal to Bill &amp; Crooked-USED!\n",
      "\n",
      "Despite thousands of hours wasted and many millions of dollars spent the Democrats have been unable to show any collusion with Russia - so now they are moving on to the false accusations and fabricated stories of women who I don’t know and/or have never met. FAKE NEWS!\n",
      "\n",
      "Another false story this time in the Failing @nytimes that I watch 4-8 hours of television a day - Wrong!  Also I seldom if ever watch CNN or MSNBC both of which I consider Fake News. I never watch Don Lemon who I once called the “dumbest man on television!” Bad Reporting.\n",
      "\n",
      "Very little discussion of all the purposely false and defamatory stories put out this week by the Fake News Media. They are out of control - correct reporting means nothing to them. Major lies written then forced to be withdrawn after they are exposed...a stain on America!\n",
      "\n",
      "Getting closer and closer on the Tax Cut Bill. Shaping up even better than projected. House and Senate working very hard and smart. End result will be not only important but SPECIAL!\n",
      "\n",
      "Things are going really well for our economy a subject the Fake News spends as little time as possible discussing! Stock Market hit another RECORD HIGH unemployment is now at a 17 year low and companies are coming back into the USA. Really good news and much more to come!\n",
      "\n",
      "No American should be separated from their loved ones because of preventable crime committed by those illegally in our country. Our cities should be Sanctuaries for Americans – not for criminal aliens! https://t.co/CvtkCG1pln\n",
      "\n",
      "Great Army - Navy Game. Army wins 14 to 13 and brings home the COMMANDER-IN-CHIEF’S TROPHY! Congratulations!\n",
      "\n",
      "Great Army - Navy Game. Army wins 14 to 13 and brings home the COMMANDER-IN-CHIEF’S TROPHY (last time was 1996). Wow! Congratulations!\n",
      "\n",
      ".@daveweigel of the Washington Post just admitted that his picture was a FAKE (fraud?) showing an almost empty arena last night for my speech in Pensacola when in fact he knew the arena was packed (as shown also on T.V.). FAKE NEWS he should be fired.\n",
      "\n",
      ".@DaveWeigel @WashingtonPost put out a phony photo of an empty arena hours before I arrived @ the venue w/ thousands of people outside on their way in. Real photos now shown as I spoke. Packed house many people unable to get in. Demand apology & retraction from FAKE NEWS WaPo! https://t.co/XAblFGh1ob\n",
      "\n",
      "Have a great game today @USArmy and @USNavy - I will be watching. We love our U.S. Military. On behalf of an entire Nation THANK YOU for your sacrifice and service! #ArmyNavyGame #USA🇺🇸 https://t.co/8m1W9rFwIh\n",
      "\n",
      "It was my great honor to celebrate the opening of two extraordinary museums-the Mississippi State History Museum & the Mississippi Civil Rights Museum. We pay solemn tribute to our heroes of the past & dedicate ourselves to building a future of freedom equality justice & peace. https://t.co/5AkgVpV8aa\n",
      "\n",
      "Heading to the great state of Mississippi at the invitation of their popular and respected Governor @PhilBryantMS. Look forward to seeing the new Civil Rights Museum!\n",
      "\n",
      "CNN’S slogan is CNN THE MOST TRUSTED NAME IN NEWS. Everyone knows this is not true that this could in fact be a fraud on the American Public. There are many outlets that are far more trusted than Fake News CNN. Their slogan should be CNN THE LEAST TRUSTED NAME IN NEWS!\n",
      "\n",
      "Fake News CNN made a vicious and purposeful mistake yesterday. They were caught red handed just like lonely Brian Ross at ABC News (who should be immediately fired for his “mistake”). Watch to see if @CNN fires those responsible or was it just gross incompetence?\n",
      "\n",
      "A big contingent of very enthusiastic Roy Moore fans at the rally last night. We can’t have a Pelosi/Schumer Liberal Democrat Jones in that important Alabama Senate seat. Need your vote to Make America Great Again! Jones will always vote against what we must do for our Country.\n",
      "\n",
      "GREAT EVENING last night in Pensacola Florida. Arena was packed to the rafters the crowd was loud loving and really smart. They definitely get what’s going on. Thank you Pensacola!\n",
      "\n",
      "We believe that every American should stand for the National Anthem and we proudly pledge allegiance to one NATION UNDER GOD! https://t.co/r2ITtWwfVs\n",
      "\n",
      "This is your land this is your home and it's your voice that matters the most. So speak up be heard and fight fight fight for the change you've been waiting for your entire life!MERRY CHRISTMAS and THANK YOU Pensacola Florida! https://t.co/geWGzpzRp6\n",
      "\n",
      "Just arrived at the Pensacola Bay Center. Join me LIVE on @FoxNews in 10 minutes! #MAGA https://t.co/RQFqOkcpNV\n",
      "\n",
      "On my way to Pensacola Florida. See everyone soon! #MAGA https://t.co/ijwxVSYQ52\n",
      "\n",
      "“The unemployment rate remains at a 17-year low of 4.1%. The unemployment rate in manufacturing dropped to 2.6% the lowest ever recorded. The unemployment rate among Hispanics dropped to 4.7% the lowest ever recorded...”@SecretaryAcosta @USDOL https://t.co/vou28s0yHN\n",
      "\n",
      "MAKE AMERICA GREAT AGAIN! https://t.co/64a93S07s7\n",
      "\n",
      "Fines and penalties against Wells Fargo Bank for their bad acts against their customers and others will not be dropped as has incorrectly been reported but will be pursued and if anything substantially increased. I will cut Regs but make penalties severe when caught cheating!\n",
      "\n",
      "LAST thing the Make America Great Again Agenda needs is a Liberal Democrat in Senate where we have so little margin for victory already. The Pelosi/Schumer Puppet Jones would vote against us 100% of the time. He’s bad on Crime Life Border Vets Guns &amp; Military. VOTE ROY MOORE!\n",
      "\n",
      "Big crowd expected today in Pensacola Florida for a Make America Great Again speech. We have done so much in so short a period of time...and yet are planning to do so much more! See you there!\n",
      "\n",
      "I fulfilled my campaign promise - others didn’t! https://t.co/bYdaOHmPVJ\n",
      "\n",
      "Tonight @FLOTUS Melania and I were thrilled to welcome so many wonderful friends to the @WhiteHouse – and wish them all a very #HappyHanukkahhttps://t.co/wyPkpTsP1i https://t.co/XhNXZSBEC8\n",
      "\n",
      "Across the battlefields oceans and harrowing skies of Europe and the Pacific throughout the war one great battle cry could be heard by America’s friends and foes alike:“REMEMBER PEARL HARBOR.” https://t.co/dfev02TwIr\n",
      "\n",
      "Today as we Remember Pearl Harbor it was an incredible honor to be joined with surviving Veterans of the attack on 12/7/1941. They are HEROES and they are living witnesses to American History. All American hearts are filled with gratitude for their service and their sacrifice. https://t.co/x5LDl25o30\n",
      "\n",
      "Today the U.S. flag flies at half-staff at the @WhiteHouse in honor of National Pearl Harbor Remembrance Day. https://t.co/LkXsBx2JF8 https://t.co/ogmpydr5LK\n",
      "\n",
      "Today our entire nation pauses to REMEMBER PEARL HARBOR—and the brave warriors who on that day stood tall and fought for America. God Bless our HEROES who wear the uniform and God Bless the United States of America. #PearlHarborRemembranceDay🇺🇸 https://t.co/qGhlsPlxtH\n",
      "\n",
      "RT @realDonaldTrump: National Pearl Harbor Remembrance Day - “A day that will live in infamy!” December 7 1941\n",
      "\n",
      "National Pearl Harbor Remembrance Day - “A day that will live in infamy!” December 7 1941\n",
      "\n",
      "Go get the new book on Andrew Jackson by Brian Kilmeade...Really good. @foxandfriends\n",
      "\n",
      "RT @EricTrump: #MakeAmericaGreatAgain https://t.co/YpfVHtq8tE\n",
      "\n",
      "RT @ChuckGrassley: Jerusalem Embassy Act of ‘95 (Senate vote 93-5 &amp; I voted for it) states embassy should be in Jerusalem by 5/31/99. For 1…\n",
      "\n",
      "I have determined that it is time to officially recognize Jerusalem as the capital of Israel. I am also directing the State Department to begin preparation to move the American Embassy from Tel Aviv to Jerusalem... https://t.co/YwgWmT0O8m\n",
      "\n",
      "Join me live from the @WhiteHouse via #Periscopehttps://t.co/wLXKoISSTG\n",
      "\n",
      "Our thoughts and prayers are with everyone in the path of California’s wildfires. I encourage everyone to heed the advice and orders of local and state officials. THANK YOU to all First Responders for your incredible work! https://t.co/g9y9PkB352\n",
      "\n",
      "MAKE AMERICA GREAT AGAIN!\n",
      "\n",
      "RT @Scavino45: Time lapse video of the border wall prototypes when they were being built in San Diego. Next phase underway: testing and ev…\n",
      "\n",
      "Join me this Friday in Pensacola Florida at the Pensacola Bay Center! Tickets: https://t.co/zA7SGgWqBE https://t.co/QzFdxQdgAL\n",
      "\n",
      "Yesterday I was thrilled to be with so many WONDERFUL friends in Utah’s MAGNIFICENT Capitol.It was my honor to sign two Presidential Proclamations that will modify the national monuments designations of both Bears Ears and Grand Staircase Escalante...https://t.co/jiTHcPovCi https://t.co/dIpdAUVoRB\n",
      "\n",
      "A must watch: Legal Scholar Alan Dershowitz was just on @foxandfriends talking of what is going on with respect to the greatest Witch Hunt in U.S. political history. Enjoy!\n",
      "\n",
      "With the great vote on Cutting Taxes this could be a big day for the Stock Market - and YOU!\n",
      "\n",
      "Putting Pelosi/Schumer Liberal Puppet Jones into office in Alabama would hurt our great Republican Agenda of low on taxes tough on crime strong on military and borders...&amp; so much more. Look at your 401-k’s since Election. Highest Stock Market EVER! Jobs are roaring back!\n",
      "\n",
      "Democrats refusal to give even one vote for massive Tax Cuts is why we need Republican Roy Moore to win in Alabama. We need his vote on stopping crime illegal immigration Border Wall Military Pro Life V.A. Judges 2nd Amendment and more. No to Jones a Pelosi/Schumer Puppet!\n",
      "\n",
      "Report: “ANTI-TRUMP FBI AGENT LED CLINTON EMAIL PROBE”  Now it all starts to make sense!\n",
      "\n",
      "People who lost money when the Stock Market went down 350 points based on the False and Dishonest reporting of Brian Ross of @ABC News (he has been suspended) should consider hiring a lawyer and suing ABC for the damages this bad reporting has caused - many millions of dollars!\n",
      "\n",
      "After years of Comey with the phony and dishonest Clinton investigation (and more) running the FBI its reputation is in Tatters - worst in History! But fear not we will bring it back to greatness.\n",
      "\n",
      "Tainted (no very dishonest?) FBI “agent’s role in Clinton probe under review.” Led Clinton Email probe. @foxandfriends  Clinton money going to wife of another FBI agent in charge.\n",
      "\n",
      "Such a total miscarriage of Justice in San Francisco! https://t.co/MSIkBCKF3t\n",
      "\n",
      "RT @paulsperry_: Wray needs to clean house. Now we know the politicization even worse than McCabe's ties to McAuliffe/Clinton. It also infe…\n",
      "\n",
      "RT @paulsperry_: BREAKING: top FBI investigator for Mueller--PETER STRZOK--busted sending political text messages bashing Trump &amp; praising…\n",
      "\n",
      "RT @GovChristie: .@POTUS has done more to combat the addiction crisis than any other President. https://t.co/EfjJVrE29G\n",
      "\n",
      "RT @PressSec: The Trump effect: “The U.S. economy is running at its full potential for the first time in a decade” -WSJhttps://t.co/ee5N0z…\n",
      "\n",
      "I never asked Comey to stop investigating Flynn. Just more Fake News covering another Comey lie!\n",
      "\n",
      "Congratulations to @ABC News for suspending Brian Ross for his horrendously inaccurate and dishonest report on the Russia Russia Russia Witch Hunt. More Networks and “papers” should do the same with their Fake News!\n",
      "\n",
      "Many people in our Country are asking what the “Justice” Department is going to do about the fact that totally Crooked Hillary AFTER receiving a subpoena from the United States Congress deleted and “acid washed” 33000 Emails? No justice!\n",
      "\n",
      "So General Flynn lies to the FBI and his life is destroyed while Crooked Hillary Clinton on that now famous FBI holiday “interrogation” with no swearing in and no recording lies many times...and nothing happens to her? Rigged system or just a double standard?\n",
      "\n",
      "Great job First Lady Melania! https://t.co/TRuvaftPcD\n",
      "\n",
      "62 years ago this week a brave seamstress in Montgomery Alabama uttered one word that changed history... https://t.co/eOvCBcMIKX\n",
      "\n",
      "I had to fire General Flynn because he lied to the Vice President and the FBI. He has pled guilty to those lies. It is a shame because his actions during the transition were lawful. There was nothing to hide!\n",
      "\n",
      "Biggest Tax Bill and Tax Cuts in history just passed in the Senate. Now these great Republicans will be going for final passage. Thank you to House and Senate Republicans for your hard work and commitment!\n",
      "\n",
      "We are one step closer to delivering MASSIVE tax cuts for working families across America. Special thanks to @SenateMajLdr Mitch McConnell and Chairman @SenOrrinHatch for shepherding our bill through the Senate. Look forward to signing a final bill before Christmas! https://t.co/gmWTny3SfS\n",
      "\n",
      "Economists on the TAX CUTS and JOBS ACT:“The enactment of a comprehensive overhaul - complete with a lower corporate tax rate - will IGNITE our ECONOMY with levels of GROWTH not SEEN IN GENERATIONS...” https://t.co/2vCBDtLh3C\n",
      "\n",
      "The media has been speculating that I fired Rex Tillerson or that he would be leaving soon - FAKE NEWS! He’s not leaving and while we disagree on certain subjects (I call the final shots) we work well together and America is highly respected again!https://t.co/FrqiPLFJ1E\n",
      "\n",
      "RT @WhiteHouse: President Trump proclaims today as #WorldAIDSDay: https://t.co/AMqW8mWiak https://t.co/XGp8EelNzz\n",
      "\n",
      "Republicans Senators are working hard to pass the biggest Tax Cuts in the history of our Country. The Bill is getting better and better. This is a once in a generation chance. Obstructionist Dems trying to block because they think it is too good and will not be given the credit!\n",
      "\n",
      "The jury was not told the killer of Kate was a 7 time felon. The Schumer/Pelosi Democrats are so weak on Crime that they will pay a big price in the 2018 and 2020 Elections.\n",
      "\n",
      "The Kate Steinle killer came back and back over the weakly protected Obama border always committing crimes and being violent and yet this info was not used in court. His exoneration is a complete travesty of justice. BUILD THE WALL!\n",
      "\n",
      "A disgraceful verdict in the Kate Steinle case! No wonder the people of our Country are so angry with Illegal Immigration.\n",
      "\n",
      "The Christmas Story begins 2000 years ago with a mother a father their baby son and the most extraordinary gift of all—the gift of God’s love for all of humanity.Whatever our beliefs we know that the birth of Jesus Christ and the story of his life... https://t.co/P94C3LjWlx\n",
      "\n",
      "Today is a day that I’ve been looking very much forward to ALL YEAR LONG. It is one that you have heard me speak about many times before. Now as President of the United States it is my tremendous honor to finally wish America and the world a very MERRY CHRISTMAS! https://t.co/cTvdlUkfHV\n",
      "\n",
      "Our FIFTH 1K milestone of 2017!#DOW24K #MAGA https://t.co/NoVt1uFp0y\n",
      "\n",
      "Today it was my great honor to meet with the Crown Prince of Bahrain at the @WhiteHouse. Bahrain and the United States are important partners.During the Crown Prince’s visit he is advancing $9 BILLION in commercial deals including finalizing the purchase of F-16’s... https://t.co/vYuw7UGYmN\n",
      "\n",
      "Thank you @SenOrrinHatch. Let’s continue MAKING AMERICA GREAT AGAIN! https://t.co/PIv9OAVZcf https://t.co/6egRvuwj1l\n",
      "\n",
      "The Dow just broke 24000 for the first time (another all-time Record). If the Dems had won the Presidential Election the Market would be down 50% from these levels and Consumer Confidence which is also at an all-time high would be “low and glum!”\n",
      "\n",
      "Stock Market hits new Record High. Confidence and enthusiasm abound. More great numbers coming out!\n",
      "\n",
      "The Chinese Envoy who just returned from North Korea seems to have had no impact on Little Rocket Man. Hard to believe his people and the military put up with living in such horrible conditions. Russia and China condemned the launch.\n",
      "\n",
      "The Failing @nytimes has totally gone against the Social Media Guidelines that they installed to preserve some credibility after many of their biased reporters went Rogue!  @foxandfriends\n",
      "\n",
      "The Failing @nytimes the pipe organ for the Democrat Party has become a virtual lobbyist for them with regard to our massive Tax Cut Bill. They are wrong so often that now I know we have a winner!\n",
      "\n",
      "Funny to hear the Democrats talking about the National Debt when President Obama doubled it in only 8 years!\n",
      "\n"
     ]
    }
   ],
   "source": [
    "for i in xrange(100):\n",
    "    print df.iloc[i].text\n",
    "    print"
   ]
  },
  {
   "cell_type": "markdown",
   "metadata": {},
   "source": [
    "# Processing"
   ]
  },
  {
   "cell_type": "markdown",
   "metadata": {},
   "source": [
    "Sanitize tweets into a format suitable for training"
   ]
  },
  {
   "cell_type": "code",
   "execution_count": 293,
   "metadata": {
    "scrolled": false
   },
   "outputs": [
    {
     "data": {
      "text/plain": [
       "3306514"
      ]
     },
     "execution_count": 293,
     "metadata": {},
     "output_type": "execute_result"
    }
   ],
   "source": [
    "# Build a set of characters to remove to reduce our vocab set\n",
    "chars_to_remove = {'\"', '$', '%', \"'\", '(', ')', '*', '+', '/', ';', \n",
    "                   '<', '=', '>', '[', '\\\\', ']', '_', '`',  '{', '|', '}', '~'}\n",
    "                    #'0', '1', '2', '3', '4', '5', '6', '7', '8', '9', ':', '#',\n",
    "# In 32,000 tweets he apparently never uses a comma, probably an artifact of CSV export.    \n",
    "\n",
    "# TODO: Order tweets\n",
    "\n",
    "text = ''\n",
    "for i, tweet in enumerate(df[df.is_retweet == False].text):\n",
    "    # print tweet\n",
    "    # Remove URLs\n",
    "    tweet = re.sub(r'http\\S+', '', tweet)\n",
    "    \n",
    "    # Fix ampersand HTML artifact\n",
    "    tweet = tweet.replace('&amp;', '&')\n",
    "    \n",
    "    # lower() to reduce pool of possible characters (lower-case's strings)\n",
    "    # the decode/encode step is to remove non-ascii characters like \n",
    "    tweet = tweet.lower().decode(\"ascii\", errors=\"ignore\").encode()\n",
    "\n",
    "    # Remove chars from our chars_to_remove set with list comprehension\n",
    "    for x in chars_to_remove:\n",
    "        tweet = tweet.replace(x, ' ')\n",
    "    #tweet = ''.join([x for x in tweet if x not in chars_to_remove]).rstrip()\n",
    "    \n",
    "    # If there's no tweet left (just a URL for example)\n",
    "    if not tweet:\n",
    "        continue\n",
    "        \n",
    "    # split and rejoin for odd spacing\n",
    "    tweet = ' '.join(tweet.split())        \n",
    "    \n",
    "    # Add period if no ending line or a space\n",
    "    if not tweet[-1] in ['.', '!', '?']:\n",
    "        tweet = tweet + '. '\n",
    "    else:\n",
    "        tweet += ' '\n",
    "\n",
    "    # Add to text (by redefining with +=)\n",
    "    text += tweet\n",
    "    \n",
    "    #print tweet, '\\n'\n",
    "    #print\n",
    "    # if i > 100: break\n",
    "    \n",
    "len(text)"
   ]
  },
  {
   "cell_type": "markdown",
   "metadata": {},
   "source": [
    "Create character set and mapping"
   ]
  },
  {
   "cell_type": "code",
   "execution_count": 295,
   "metadata": {},
   "outputs": [
    {
     "name": "stdout",
     "output_type": "stream",
     "text": [
      "Total chars: 45\n"
     ]
    }
   ],
   "source": [
    "chars = sorted(list(set(text)))\n",
    "print 'Total chars: {}'.format(len(chars))\n",
    "char_indices = dict((c, i) for i, c in enumerate(chars))\n",
    "indices_char = dict((i, c) for i, c in enumerate(chars))"
   ]
  },
  {
   "cell_type": "markdown",
   "metadata": {},
   "source": [
    "Cut text up into arbitrary sequences using a maximum length and a step size"
   ]
  },
  {
   "cell_type": "code",
   "execution_count": 241,
   "metadata": {},
   "outputs": [
    {
     "name": "stdout",
     "output_type": "stream",
     "text": [
      "('nb sequences:', 1102158)\n"
     ]
    }
   ],
   "source": [
    "maxlen = 40\n",
    "step = 3\n",
    "sentences = []\n",
    "next_chars = []\n",
    "for i in range(0, len(text) - maxlen, step):\n",
    "    sentences.append(text[i: i + maxlen])\n",
    "    next_chars.append(text[i + maxlen])\n",
    "print('nb sequences:', len(sentences))"
   ]
  },
  {
   "cell_type": "markdown",
   "metadata": {},
   "source": [
    "Vectorization of inputs\n",
    "\n",
    "- x: has dimensionality (num_sequences, maxlength, num_chars)\n",
    "- y: has dimensionality (num_sequences, num_chars)\n",
    "\n",
    "A sequence in `x` is represented as a 2d matrix of `maxlength` by `num_chars`. This means each row corresponds to what character in the possible character set, with every value being 0 except for a 1 in the position corresponding to the character. For example, the letter 'a' corresponds to the 19th position (column) in the matrix. "
   ]
  },
  {
   "cell_type": "code",
   "execution_count": 304,
   "metadata": {},
   "outputs": [
    {
     "data": {
      "text/plain": [
       "19"
      ]
     },
     "execution_count": 304,
     "metadata": {},
     "output_type": "execute_result"
    }
   ],
   "source": [
    "# Example from above\n",
    "char_indices['a']"
   ]
  },
  {
   "cell_type": "code",
   "execution_count": 247,
   "metadata": {},
   "outputs": [],
   "source": [
    "# Start by creating arrays of zeros with our final dimensionality\n",
    "x = np.zeros((len(sentences), maxlen, len(chars)), dtype=np.bool)\n",
    "y = np.zeros((len(sentences), len(chars)), dtype=np.bool)\n",
    "for i, sentence in enumerate(sentences):\n",
    "    for t, char in enumerate(sentence):\n",
    "        x[i, t, char_indices[char]] = 1\n",
    "    y[i, char_indices[next_chars[i]]] = 1"
   ]
  },
  {
   "cell_type": "markdown",
   "metadata": {},
   "source": [
    "## Model\n",
    "\n",
    "We'll build a simple LSTM model to start with that will likely need to be tweaked to get better results"
   ]
  },
  {
   "cell_type": "code",
   "execution_count": 248,
   "metadata": {},
   "outputs": [],
   "source": [
    "# Simplest model abstraction is Sequential\n",
    "model = Sequential()\n",
    "# Add LSTM layer with 256 memory units\n",
    "model.add(LSTM(256, input_shape=(maxlen, len(chars))))\n",
    "# Add Dropout layer at 20% node dropout (avoids overfitting)\n",
    "model.add(Dropout(0.2))\n",
    "# Add final Dense layer which corresponds to each of our characters\n",
    "model.add(Dense(len(chars), activation='softmax'))\n",
    "# Compile the model \n",
    "model.compile(loss='categorical_crossentropy', optimizer='adam')"
   ]
  },
  {
   "cell_type": "markdown",
   "metadata": {},
   "source": [
    "# Training"
   ]
  },
  {
   "cell_type": "markdown",
   "metadata": {},
   "source": [
    "We'll use checkpointing and select the final set of weights with the lowest loss"
   ]
  },
  {
   "cell_type": "code",
   "execution_count": 72,
   "metadata": {},
   "outputs": [],
   "source": [
    "# Make directory for model output\n",
    "if not os.path.exists('model'):\n",
    "    os.mkdir('model')\n",
    "\n",
    "path = \"model/weights-improvement-{epoch:02d}-{loss:.4f}.hdf5\"\n",
    "checkpoint = ModelCheckpoint(path, monitor='loss', verbose=1, save_best_only=True, mode='min')\n",
    "callbacks_list = [checkpoint]"
   ]
  },
  {
   "cell_type": "markdown",
   "metadata": {},
   "source": [
    "Fit the model"
   ]
  },
  {
   "cell_type": "code",
   "execution_count": null,
   "metadata": {},
   "outputs": [],
   "source": [
    "model.fit(x, y, epochs=20, batch_size=128, callbacks=callbacks_list)"
   ]
  },
  {
   "cell_type": "markdown",
   "metadata": {},
   "source": [
    "# Text Generation"
   ]
  },
  {
   "cell_type": "markdown",
   "metadata": {},
   "source": [
    "Load model with weights corresponding to smallest loss"
   ]
  },
  {
   "cell_type": "code",
   "execution_count": 250,
   "metadata": {},
   "outputs": [
    {
     "data": {
      "text/plain": [
       "['weights-improvement-20-1.2692.hdf5']"
      ]
     },
     "execution_count": 250,
     "metadata": {},
     "output_type": "execute_result"
    }
   ],
   "source": [
    "os.listdir('model')"
   ]
  },
  {
   "cell_type": "code",
   "execution_count": 251,
   "metadata": {},
   "outputs": [],
   "source": [
    "weights = os.path.join('model', os.listdir('model')[0])  # Grab weight in model dir\n",
    "model.load_weights(weights)\n",
    "model.compile(loss='categorical_crossentropy', optimizer='adam')"
   ]
  },
  {
   "cell_type": "markdown",
   "metadata": {},
   "source": [
    "Pull out random seed"
   ]
  },
  {
   "cell_type": "code",
   "execution_count": 286,
   "metadata": {},
   "outputs": [
    {
     "name": "stdout",
     "output_type": "stream",
     "text": [
      "Generating with seed: uchessofdallas thanks anna. .@giulianara\n",
      "\n"
     ]
    }
   ],
   "source": [
    "start_index = np.random.randint(0, len(text) - maxlen - 1)\n",
    "\n",
    "generated = ''\n",
    "sentence = text[start_index: start_index + maxlen]\n",
    "generated += sentence\n",
    "print 'Generating with seed: {}\\n'.format(sentence)"
   ]
  },
  {
   "cell_type": "markdown",
   "metadata": {},
   "source": [
    "Generate text from seed"
   ]
  },
  {
   "cell_type": "code",
   "execution_count": 287,
   "metadata": {},
   "outputs": [],
   "source": [
    "def str_to_input(sentence, maxlen, chars, char_indices):\n",
    "    x_pred = np.zeros((1, maxlen, len(chars)))\n",
    "    for t, char in enumerate(sentence):\n",
    "        x_pred[0, t, char_indices[char]] = 1.\n",
    "    return x_pred"
   ]
  },
  {
   "cell_type": "code",
   "execution_count": 288,
   "metadata": {},
   "outputs": [
    {
     "name": "stdout",
     "output_type": "stream",
     "text": [
      "uchessofdallas thanks anna. .@giulianarani thanks. @jackshillary @realdonaldtrump i will be interviewed on @foxandfriends the real man who will be a great president of the u.s. in the world s starting to the presidential republicans are a great presidential and the real man and the world s strong and start to the presidential republicans are a great presidential and the real man and the world s strong and start to the presidential repub"
     ]
    }
   ],
   "source": [
    "sys.stdout.write(generated)\n",
    "diversity = 0.1\n",
    "for i in range(400):\n",
    "    # Convert text seed to input\n",
    "    x_pred = str_to_input(sentence, maxlen, chars, char_indices)\n",
    "    \n",
    "    # Make prediction with model\n",
    "    preds = model.predict(x_pred, verbose=0)[0]\n",
    "    next_char = indices_char[np.argmax(preds)]\n",
    "\n",
    "    # Generate text\n",
    "    generated += next_char\n",
    "    sentence = sentence[1:] + next_char\n",
    "    sys.stdout.write(next_char)\n",
    "    sys.stdout.flush()"
   ]
  },
  {
   "cell_type": "code",
   "execution_count": null,
   "metadata": {},
   "outputs": [],
   "source": []
  }
 ],
 "metadata": {
  "kernelspec": {
   "display_name": "Python 2",
   "language": "python",
   "name": "python2"
  },
  "language_info": {
   "codemirror_mode": {
    "name": "ipython",
    "version": 2
   },
   "file_extension": ".py",
   "mimetype": "text/x-python",
   "name": "python",
   "nbconvert_exporter": "python",
   "pygments_lexer": "ipython2",
   "version": "2.7.11"
  }
 },
 "nbformat": 4,
 "nbformat_minor": 2
}
