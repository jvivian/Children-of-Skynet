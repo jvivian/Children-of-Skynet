{
 "cells": [
  {
   "cell_type": "markdown",
   "metadata": {},
   "source": [
    "# MNIST with Keras\n",
    "\n",
    "This notebook uses Keras, a high-level neural network system, to build a model capable of identifying hand-written digits (0 - 9) with high accuracy.\n",
    "\n",
    "This MNIST database contains 70,000 pictures of digits. Each picture is stored as a matrix of 28 x 28 pixels, whose values represent how dark the pixel is on a scale of 0 to 255. We'll use 60,000 of these samples to train the model, then evaluate its accuracy by testing it on remaining 10,000 samples."
   ]
  },
  {
   "cell_type": "code",
   "execution_count": 135,
   "metadata": {
    "collapsed": false
   },
   "outputs": [],
   "source": [
    "# Our model is a sequential stack of CNN layers\n",
    "from keras.models import Sequential\n",
    "\n",
    "# \"Core\" layers of Keras\n",
    "from keras.layers import Dense, Dropout, Activation, Flatten\n",
    "\n",
    "# CNN layers\n",
    "from keras.layers import Convolution2D, MaxPooling2D\n",
    "\n",
    "# Datasets and Utils\n",
    "from keras.utils import np_utils\n",
    "from keras.datasets import mnist\n",
    "\n",
    "# Other\n",
    "from collections import defaultdict\n",
    "import os\n",
    "from subprocess import call\n",
    "\n",
    "# Numpy and Pandas\n",
    "import pandas as pd\n",
    "import numpy as np\n",
    "np.random.seed(123)\n",
    "\n",
    "# Plotting\n",
    "%matplotlib inline\n",
    "import matplotlib.pyplot as plt\n",
    "import seaborn as sns\n",
    "sns.set_style('whitegrid')"
   ]
  },
  {
   "cell_type": "markdown",
   "metadata": {
    "collapsed": true
   },
   "source": [
    "## Input Data"
   ]
  },
  {
   "cell_type": "code",
   "execution_count": 5,
   "metadata": {
    "collapsed": false
   },
   "outputs": [],
   "source": [
    "(X_train, y_train), (X_test, y_test) = mnist.load_data()"
   ]
  },
  {
   "cell_type": "markdown",
   "metadata": {},
   "source": [
    "X_train (capital X for matrix) contains 60,000 train samples. <br>\n",
    "y_train (lowercase for vector) is a 1D vector that identifies what digit is represented by the corresponding vector in X_train."
   ]
  },
  {
   "cell_type": "code",
   "execution_count": 6,
   "metadata": {
    "collapsed": false
   },
   "outputs": [
    {
     "data": {
      "text/plain": [
       "(60000, 28, 28)"
      ]
     },
     "execution_count": 6,
     "metadata": {},
     "output_type": "execute_result"
    }
   ],
   "source": [
    "X_train.shape"
   ]
  },
  {
   "cell_type": "markdown",
   "metadata": {
    "collapsed": true
   },
   "source": [
    "60,000 samples that are 28 x 28 pixels each. Let's plot one as an example"
   ]
  },
  {
   "cell_type": "code",
   "execution_count": 7,
   "metadata": {
    "collapsed": false
   },
   "outputs": [
    {
     "data": {
      "image/png": "[encoded data removed]",
      "text/plain": [
       "<matplotlib.figure.Figure at 0x1047ed050>"
      ]
     },
     "metadata": {},
     "output_type": "display_data"
    }
   ],
   "source": [
    "plt.imshow(X_train[0]);"
   ]
  },
  {
   "cell_type": "markdown",
   "metadata": {
    "collapsed": true
   },
   "source": [
    "### Preprocess Data\n",
    "\n",
    "Tensorflow requires we declare a dimension for the _depth_ of the input image. A full-color image with 3 **RGB** channels would have a depth of 3. Our black and white pixel image has a depth of 1.\n",
    "\n",
    "Transform the dataset from (n, width, height) to (n, width, height, depth)"
   ]
  },
  {
   "cell_type": "code",
   "execution_count": 8,
   "metadata": {
    "collapsed": false
   },
   "outputs": [
    {
     "data": {
      "text/plain": [
       "(60000, 28, 28, 1)"
      ]
     },
     "execution_count": 8,
     "metadata": {},
     "output_type": "execute_result"
    }
   ],
   "source": [
    "num_train_samples, img_rows, img_cols = X_train.shape\n",
    "\n",
    "X_train = X_train.reshape(X_train.shape[0], img_rows, img_cols, 1)\n",
    "X_test = X_test.reshape(X_test.shape[0], img_rows, img_cols, 1)\n",
    "\n",
    "# Input shape of a single image\n",
    "input_shape = (img_rows, img_cols, 1)\n",
    "X_train.shape"
   ]
  },
  {
   "cell_type": "code",
   "execution_count": 9,
   "metadata": {
    "collapsed": false
   },
   "outputs": [
    {
     "name": "stdout",
     "output_type": "stream",
     "text": [
      "255.0\n"
     ]
    }
   ],
   "source": [
    "# Declare the types for our inputs\n",
    "X_train = X_train.astype('float32')\n",
    "X_test = X_test.astype('float32')\n",
    "\n",
    "# Normalize dataset to be between 0 and 1. MNIST uses 255 as a maximum value\n",
    "print np.max(X_train)\n",
    "X_train /= 255\n",
    "X_test /= 255"
   ]
  },
  {
   "cell_type": "markdown",
   "metadata": {},
   "source": [
    "### Preprocess Labels"
   ]
  },
  {
   "cell_type": "code",
   "execution_count": 10,
   "metadata": {
    "collapsed": false
   },
   "outputs": [
    {
     "name": "stdout",
     "output_type": "stream",
     "text": [
      "(60000,)\n"
     ]
    },
    {
     "data": {
      "text/plain": [
       "array([5, 0, 4, 1, 9, 2, 1, 3, 1, 4], dtype=uint8)"
      ]
     },
     "execution_count": 10,
     "metadata": {},
     "output_type": "execute_result"
    }
   ],
   "source": [
    "print y_train.shape\n",
    "y_train[:10]"
   ]
  },
  {
   "cell_type": "markdown",
   "metadata": {},
   "source": [
    "The data is in a typical format for machine learning. It is a list of labels, one for each samples in X_train. Keras requires we reshape the data into 10 distinct classes, one for each digit."
   ]
  },
  {
   "cell_type": "code",
   "execution_count": 11,
   "metadata": {
    "collapsed": true
   },
   "outputs": [],
   "source": [
    "Y_train = np_utils.to_categorical(y_train, 10)\n",
    "Y_test = np_utils.to_categorical(y_test, 10)"
   ]
  },
  {
   "cell_type": "code",
   "execution_count": 12,
   "metadata": {
    "collapsed": false
   },
   "outputs": [
    {
     "data": {
      "text/plain": [
       "(60000, 10)"
      ]
     },
     "execution_count": 12,
     "metadata": {},
     "output_type": "execute_result"
    }
   ],
   "source": [
    "Y_train.shape"
   ]
  },
  {
   "cell_type": "code",
   "execution_count": 13,
   "metadata": {
    "collapsed": false
   },
   "outputs": [
    {
     "data": {
      "text/plain": [
       "array([[ 0.,  0.,  0.,  0.,  0.,  1.,  0.,  0.,  0.,  0.],\n",
       "       [ 1.,  0.,  0.,  0.,  0.,  0.,  0.,  0.,  0.,  0.],\n",
       "       [ 0.,  0.,  0.,  0.,  1.,  0.,  0.,  0.,  0.,  0.],\n",
       "       [ 0.,  1.,  0.,  0.,  0.,  0.,  0.,  0.,  0.,  0.],\n",
       "       [ 0.,  0.,  0.,  0.,  0.,  0.,  0.,  0.,  0.,  1.],\n",
       "       [ 0.,  0.,  1.,  0.,  0.,  0.,  0.,  0.,  0.,  0.],\n",
       "       [ 0.,  1.,  0.,  0.,  0.,  0.,  0.,  0.,  0.,  0.],\n",
       "       [ 0.,  0.,  0.,  1.,  0.,  0.,  0.,  0.,  0.,  0.],\n",
       "       [ 0.,  1.,  0.,  0.,  0.,  0.,  0.,  0.,  0.,  0.],\n",
       "       [ 0.,  0.,  0.,  0.,  1.,  0.,  0.,  0.,  0.,  0.]])"
      ]
     },
     "execution_count": 13,
     "metadata": {},
     "output_type": "execute_result"
    }
   ],
   "source": [
    "Y_train[:10]"
   ]
  },
  {
   "cell_type": "markdown",
   "metadata": {},
   "source": [
    "The first row corresponds to '5', the next row to '0', and the next row to '4', which matches our first array. This is typically called \"One Hot Encoding\", where _categorical_ features are turned into binary vectors of 0's and 1's."
   ]
  },
  {
   "cell_type": "markdown",
   "metadata": {},
   "source": [
    "### Define Model Architecture"
   ]
  },
  {
   "cell_type": "code",
   "execution_count": 14,
   "metadata": {
    "collapsed": false
   },
   "outputs": [],
   "source": [
    "model = Sequential()"
   ]
  },
  {
   "cell_type": "code",
   "execution_count": 15,
   "metadata": {
    "collapsed": false
   },
   "outputs": [],
   "source": [
    "model.add(Convolution2D(filters=28, \n",
    "                        kernel_size=(3, 3), \n",
    "                        activation='relu', \n",
    "                        input_shape=(28,28, 1)))"
   ]
  },
  {
   "cell_type": "markdown",
   "metadata": {},
   "source": [
    "Filters is an integer that represents the dimensionality of the output space. The kernel_size specifies the width and height of the 2D convolution window.\n",
    "\n",
    "Add more layers to the model"
   ]
  },
  {
   "cell_type": "code",
   "execution_count": 16,
   "metadata": {
    "collapsed": false
   },
   "outputs": [],
   "source": [
    "model.add(Convolution2D(32, (3, 3), activation='relu'))\n",
    "model.add(MaxPooling2D(pool_size=(2,2)))\n",
    "model.add(Dropout(0.25))"
   ]
  },
  {
   "cell_type": "markdown",
   "metadata": {},
   "source": [
    "The **Dropout** layer is an important method for regularizing the model to prevent overfitting. Explanation [here](https://www.quora.com/How-does-the-dropout-method-work-in-deep-learning-And-why-is-it-claimed-to-be-an-effective-trick-to-improve-your-network).\n",
    "\n",
    "MaxPooling2D is a way to reduce the number of parameters in our model by sliding a 2x2 pooling filter across the previous layer and taking the max of the 4 values in the 2x2 filter.\n",
    "\n",
    "So far, for model parameters, we've added two Convolution layers. To complete our model architecture, let's add a fully connected layer and then the output layer:"
   ]
  },
  {
   "cell_type": "code",
   "execution_count": 17,
   "metadata": {
    "collapsed": true
   },
   "outputs": [],
   "source": [
    "model.add(Flatten())\n",
    "model.add(Dense(128, activation='relu'))\n",
    "model.add(Dropout(0.5))\n",
    "model.add(Dense(10, activation='softmax'))"
   ]
  },
  {
   "cell_type": "markdown",
   "metadata": {},
   "source": [
    "For Dense layers, the first parameter is the output size of the layer. Keras automatically handles the connections between layers.\n",
    "\n",
    "Note that the final layer has an output size of 10, corresponding to the 10 classes of digits.\n",
    "\n",
    "Also note that the weights from the Convolution layers must be flattened (made 1-dimensional) before passing them to the fully connected Dense layer."
   ]
  },
  {
   "cell_type": "markdown",
   "metadata": {},
   "source": [
    "### Compile Model\n",
    "\n",
    "Compiling the model just means specifying a loss function and optimizer"
   ]
  },
  {
   "cell_type": "code",
   "execution_count": 18,
   "metadata": {
    "collapsed": true
   },
   "outputs": [],
   "source": [
    "model.compile(loss='categorical_crossentropy', optimizer='adam', metrics=['accuracy'])"
   ]
  },
  {
   "cell_type": "markdown",
   "metadata": {},
   "source": [
    "### Fit Model on Training Data"
   ]
  },
  {
   "cell_type": "code",
   "execution_count": 19,
   "metadata": {
    "collapsed": false
   },
   "outputs": [
    {
     "name": "stdout",
     "output_type": "stream",
     "text": [
      "CPU times: user 3 µs, sys: 2 µs, total: 5 µs\n",
      "Wall time: 7.15 µs\n",
      "Train on 60000 samples, validate on 10000 samples\n",
      "Epoch 1/12\n",
      "60000/60000 [==============================] - 156s - loss: 0.2718 - acc: 0.9172 - val_loss: 0.0533 - val_acc: 0.9835\n",
      "Epoch 2/12\n",
      "60000/60000 [==============================] - 149s - loss: 0.0915 - acc: 0.9730 - val_loss: 0.0407 - val_acc: 0.9871\n",
      "Epoch 3/12\n",
      "60000/60000 [==============================] - 151s - loss: 0.0705 - acc: 0.9789 - val_loss: 0.0334 - val_acc: 0.9886\n",
      "Epoch 4/12\n",
      "60000/60000 [==============================] - 152s - loss: 0.0576 - acc: 0.9822 - val_loss: 0.0306 - val_acc: 0.9898\n",
      "Epoch 5/12\n",
      "60000/60000 [==============================] - 147s - loss: 0.0509 - acc: 0.9839 - val_loss: 0.0310 - val_acc: 0.9898\n",
      "Epoch 6/12\n",
      "60000/60000 [==============================] - 142s - loss: 0.0427 - acc: 0.9864 - val_loss: 0.0304 - val_acc: 0.9904\n",
      "Epoch 7/12\n",
      "60000/60000 [==============================] - 141s - loss: 0.0394 - acc: 0.9879 - val_loss: 0.0294 - val_acc: 0.9898\n",
      "Epoch 8/12\n",
      "60000/60000 [==============================] - 142s - loss: 0.0346 - acc: 0.9888 - val_loss: 0.0269 - val_acc: 0.9912\n",
      "Epoch 9/12\n",
      "60000/60000 [==============================] - 144s - loss: 0.0319 - acc: 0.9901 - val_loss: 0.0319 - val_acc: 0.9908\n",
      "Epoch 10/12\n",
      "60000/60000 [==============================] - 142s - loss: 0.0309 - acc: 0.9901 - val_loss: 0.0281 - val_acc: 0.9917\n",
      "Epoch 11/12\n",
      "60000/60000 [==============================] - 142s - loss: 0.0282 - acc: 0.9904 - val_loss: 0.0267 - val_acc: 0.9920\n",
      "Epoch 12/12\n",
      "60000/60000 [==============================] - 144s - loss: 0.0267 - acc: 0.9912 - val_loss: 0.0288 - val_acc: 0.9919\n"
     ]
    },
    {
     "data": {
      "text/plain": [
       "<keras.callbacks.History at 0x1344a3610>"
      ]
     },
     "execution_count": 19,
     "metadata": {},
     "output_type": "execute_result"
    }
   ],
   "source": [
    "%time\n",
    "model.fit(X_train, Y_train, \n",
    "          batch_size=128, \n",
    "          epochs=12, \n",
    "          verbose=1,\n",
    "          validation_data=(X_test, Y_test))"
   ]
  },
  {
   "cell_type": "markdown",
   "metadata": {},
   "source": [
    "Score the model"
   ]
  },
  {
   "cell_type": "code",
   "execution_count": 20,
   "metadata": {
    "collapsed": false
   },
   "outputs": [
    {
     "name": "stdout",
     "output_type": "stream",
     "text": [
      "('Test loss:', 0.0288)\n",
      "('Test accuracy:', 0.9919)\n"
     ]
    }
   ],
   "source": [
    "loss, accuracy = model.evaluate(X_test, Y_test, verbose=0)\n",
    "print('Test loss:', round(loss, 4))\n",
    "print('Test accuracy:', round(accuracy, 4))"
   ]
  },
  {
   "cell_type": "markdown",
   "metadata": {},
   "source": [
    "### Closer Look"
   ]
  },
  {
   "cell_type": "markdown",
   "metadata": {},
   "source": [
    "To understand what is evaluated by **Test Accuracy**, let's look at a single example from our X_test"
   ]
  },
  {
   "cell_type": "code",
   "execution_count": 21,
   "metadata": {
    "collapsed": false
   },
   "outputs": [
    {
     "name": "stdout",
     "output_type": "stream",
     "text": [
      "6\n"
     ]
    }
   ],
   "source": [
    "index = 50\n",
    "print y_test[50]"
   ]
  },
  {
   "cell_type": "markdown",
   "metadata": {},
   "source": [
    "The 50th sample in our test set is for the number 6. Let's see what it looks like"
   ]
  },
  {
   "cell_type": "code",
   "execution_count": 246,
   "metadata": {
    "collapsed": false
   },
   "outputs": [
    {
     "data": {
      "text/plain": [
       "<matplotlib.colorbar.Colorbar object at 0x13b3e37d0>"
      ]
     },
     "execution_count": 246,
     "metadata": {},
     "output_type": "execute_result"
    },
    {
     "data": {
      "image/png": "[encoded data removed]",
      "text/plain": [
       "<matplotlib.figure.Figure object at 0x1391bca10>"
      ]
     },
     "metadata": {},
     "output_type": "display_data"
    }
   ],
   "source": [
    "# Because our dimensions are 60.000, 28, 28, and 1, we select the 50th sample as follows:\n",
    "# 50 for the 50th sample. \":\" means all values, so all values for width and height, then 0 at the end for that dim.\n",
    "plt.imshow(X_test[50,:,:,0]); plt.colorbar()"
   ]
  },
  {
   "cell_type": "markdown",
   "metadata": {},
   "source": [
    "Plugging this sample into our model, it will give us confidence scores for how likely it thinks each number is"
   ]
  },
  {
   "cell_type": "code",
   "execution_count": 23,
   "metadata": {
    "collapsed": false,
    "scrolled": true
   },
   "outputs": [
    {
     "name": "stdout",
     "output_type": "stream",
     "text": [
      "Digit: 0\t Probability: 5.33506606948e-11\n",
      "Digit: 1\t Probability: 1.05252590497e-12\n",
      "Digit: 2\t Probability: 5.42265791799e-15\n",
      "Digit: 3\t Probability: 4.29508926797e-14\n",
      "Digit: 4\t Probability: 8.03828845933e-13\n",
      "Digit: 5\t Probability: 2.32912604758e-08\n",
      "Digit: 6\t Probability: 1.0\n",
      "Digit: 7\t Probability: 1.90053968798e-18\n",
      "Digit: 8\t Probability: 5.73982666952e-11\n",
      "Digit: 9\t Probability: 2.73838954408e-15\n"
     ]
    }
   ],
   "source": [
    "# I use the clunky syntax [50:51] to select a single sample but retain the dimensionality\n",
    "# X_test[50] returns a (28 x 28 x 1) vector but our model requires an (n x 28 x 28 x 1) tensor\n",
    "for i, j in zip(xrange(10), model.predict(X_test[50:51])[0]):\n",
    "    print 'Digit: {}\\t Probability: {}'.format(i, j)"
   ]
  },
  {
   "cell_type": "markdown",
   "metadata": {},
   "source": [
    "Dope!"
   ]
  },
  {
   "cell_type": "markdown",
   "metadata": {},
   "source": [
    "# Bonus Round"
   ]
  },
  {
   "cell_type": "markdown",
   "metadata": {},
   "source": [
    "**Which digit is the most difficult to identify?**"
   ]
  },
  {
   "cell_type": "code",
   "execution_count": 123,
   "metadata": {
    "collapsed": false
   },
   "outputs": [
    {
     "name": "stdout",
     "output_type": "stream",
     "text": [
      "CPU times: user 4 µs, sys: 2 µs, total: 6 µs\n",
      "Wall time: 20 µs\n"
     ]
    }
   ],
   "source": [
    "# Build accuracy dataframe so we don't keep calling model.predict\n",
    "%time\n",
    "info = [list(model.predict(X_test[i:i+1])[0]) for i in xrange(len(X_test))]\n",
    "df = pd.DataFrame.from_records(info)"
   ]
  },
  {
   "cell_type": "code",
   "execution_count": 124,
   "metadata": {
    "collapsed": false,
    "scrolled": true
   },
   "outputs": [
    {
     "data": {
      "text/html": [
       "<div>\n",
       "<style>\n",
       "    .dataframe thead tr:only-child th {\n",
       "        text-align: right;\n",
       "    }\n",
       "\n",
       "    .dataframe thead th {\n",
       "        text-align: left;\n",
       "    }\n",
       "\n",
       "    .dataframe tbody tr th {\n",
       "        vertical-align: top;\n",
       "    }\n",
       "</style>\n",
       "<table border=\"1\" class=\"dataframe\">\n",
       "  <thead>\n",
       "    <tr style=\"text-align: right;\">\n",
       "      <th></th>\n",
       "      <th>0</th>\n",
       "      <th>1</th>\n",
       "      <th>2</th>\n",
       "      <th>3</th>\n",
       "      <th>4</th>\n",
       "      <th>5</th>\n",
       "      <th>6</th>\n",
       "      <th>7</th>\n",
       "      <th>8</th>\n",
       "      <th>9</th>\n",
       "    </tr>\n",
       "  </thead>\n",
       "  <tbody>\n",
       "    <tr>\n",
       "      <th>0</th>\n",
       "      <td>3.753787e-15</td>\n",
       "      <td>2.349356e-11</td>\n",
       "      <td>9.115769e-13</td>\n",
       "      <td>3.120679e-10</td>\n",
       "      <td>1.050341e-14</td>\n",
       "      <td>6.655724e-15</td>\n",
       "      <td>9.248858e-20</td>\n",
       "      <td>1.000000e+00</td>\n",
       "      <td>5.607553e-13</td>\n",
       "      <td>4.918307e-11</td>\n",
       "    </tr>\n",
       "    <tr>\n",
       "      <th>1</th>\n",
       "      <td>4.554177e-12</td>\n",
       "      <td>1.369363e-06</td>\n",
       "      <td>9.999987e-01</td>\n",
       "      <td>2.014215e-13</td>\n",
       "      <td>7.748726e-14</td>\n",
       "      <td>2.138064e-17</td>\n",
       "      <td>6.389435e-14</td>\n",
       "      <td>9.508598e-14</td>\n",
       "      <td>3.183251e-14</td>\n",
       "      <td>6.755675e-17</td>\n",
       "    </tr>\n",
       "    <tr>\n",
       "      <th>2</th>\n",
       "      <td>2.491735e-09</td>\n",
       "      <td>9.999992e-01</td>\n",
       "      <td>1.601278e-07</td>\n",
       "      <td>2.628821e-10</td>\n",
       "      <td>3.296112e-07</td>\n",
       "      <td>7.724814e-09</td>\n",
       "      <td>3.782790e-07</td>\n",
       "      <td>2.729449e-08</td>\n",
       "      <td>1.294667e-08</td>\n",
       "      <td>2.028554e-09</td>\n",
       "    </tr>\n",
       "    <tr>\n",
       "      <th>3</th>\n",
       "      <td>1.000000e+00</td>\n",
       "      <td>5.709309e-11</td>\n",
       "      <td>4.118527e-10</td>\n",
       "      <td>5.217036e-12</td>\n",
       "      <td>6.314926e-12</td>\n",
       "      <td>2.917198e-11</td>\n",
       "      <td>1.213034e-08</td>\n",
       "      <td>4.777737e-11</td>\n",
       "      <td>1.775666e-10</td>\n",
       "      <td>1.081366e-09</td>\n",
       "    </tr>\n",
       "    <tr>\n",
       "      <th>4</th>\n",
       "      <td>4.819369e-13</td>\n",
       "      <td>1.084522e-11</td>\n",
       "      <td>3.986005e-13</td>\n",
       "      <td>6.932789e-16</td>\n",
       "      <td>9.999987e-01</td>\n",
       "      <td>4.927090e-14</td>\n",
       "      <td>1.877993e-12</td>\n",
       "      <td>2.610559e-12</td>\n",
       "      <td>2.405626e-11</td>\n",
       "      <td>1.340771e-06</td>\n",
       "    </tr>\n",
       "  </tbody>\n",
       "</table>\n",
       "</div>"
      ],
      "text/plain": [
       "              0             1             2             3             4  \\\n",
       "0  3.753787e-15  2.349356e-11  9.115769e-13  3.120679e-10  1.050341e-14   \n",
       "1  4.554177e-12  1.369363e-06  9.999987e-01  2.014215e-13  7.748726e-14   \n",
       "2  2.491735e-09  9.999992e-01  1.601278e-07  2.628821e-10  3.296112e-07   \n",
       "3  1.000000e+00  5.709309e-11  4.118527e-10  5.217036e-12  6.314926e-12   \n",
       "4  4.819369e-13  1.084522e-11  3.986005e-13  6.932789e-16  9.999987e-01   \n",
       "\n",
       "              5             6             7             8             9  \n",
       "0  6.655724e-15  9.248858e-20  1.000000e+00  5.607553e-13  4.918307e-11  \n",
       "1  2.138064e-17  6.389435e-14  9.508598e-14  3.183251e-14  6.755675e-17  \n",
       "2  7.724814e-09  3.782790e-07  2.729449e-08  1.294667e-08  2.028554e-09  \n",
       "3  2.917198e-11  1.213034e-08  4.777737e-11  1.775666e-10  1.081366e-09  \n",
       "4  4.927090e-14  1.877993e-12  2.610559e-12  2.405626e-11  1.340771e-06  "
      ]
     },
     "execution_count": 124,
     "metadata": {},
     "output_type": "execute_result"
    }
   ],
   "source": [
    "df.head()"
   ]
  },
  {
   "cell_type": "markdown",
   "metadata": {},
   "source": [
    "Which number is guessed incorrectly most often?"
   ]
  },
  {
   "cell_type": "code",
   "execution_count": 57,
   "metadata": {
    "collapsed": false
   },
   "outputs": [
    {
     "name": "stdout",
     "output_type": "stream",
     "text": [
      "CPU times: user 2 µs, sys: 1e+03 ns, total: 3 µs\n",
      "Wall time: 5.96 µs\n"
     ]
    }
   ],
   "source": [
    "%time\n",
    "wrong_guess = defaultdict(int)\n",
    "for row, answer in zip(df.iterrows(), y_test):\n",
    "    index, guess = row\n",
    "    if list(guess).index(max(guess)) != answer:\n",
    "        wrong_guess[answer] += 1"
   ]
  },
  {
   "cell_type": "code",
   "execution_count": 125,
   "metadata": {
    "collapsed": false,
    "scrolled": true
   },
   "outputs": [
    {
     "name": "stdout",
     "output_type": "stream",
     "text": [
      "Digit: 0\t# wrong guesses: 4\n",
      "Digit: 1\t# wrong guesses: 7\n",
      "Digit: 2\t# wrong guesses: 7\n",
      "Digit: 3\t# wrong guesses: 5\n",
      "Digit: 4\t# wrong guesses: 12\n",
      "Digit: 5\t# wrong guesses: 7\n",
      "Digit: 6\t# wrong guesses: 13\n",
      "Digit: 7\t# wrong guesses: 11\n",
      "Digit: 8\t# wrong guesses: 6\n",
      "Digit: 9\t# wrong guesses: 9\n"
     ]
    }
   ],
   "source": [
    "for k, v in sorted(wrong_guess.iteritems()):\n",
    "    print 'Digit: {}\\t# wrong guesses: {}'.format(k, v)"
   ]
  },
  {
   "cell_type": "markdown",
   "metadata": {},
   "source": [
    "Which image has the lowest confidence when guessed?"
   ]
  },
  {
   "cell_type": "code",
   "execution_count": 88,
   "metadata": {
    "collapsed": false
   },
   "outputs": [
    {
     "name": "stdout",
     "output_type": "stream",
     "text": [
      "CPU times: user 2 µs, sys: 2 µs, total: 4 µs\n",
      "Wall time: 14.1 µs\n"
     ]
    }
   ],
   "source": [
    "%time\n",
    "confidence = defaultdict(list)\n",
    "for guess, answer in zip(df.max(axis=1), y_test):\n",
    "    confidence[answer].append(guess)"
   ]
  },
  {
   "cell_type": "markdown",
   "metadata": {},
   "source": [
    "plot kernel densities"
   ]
  },
  {
   "cell_type": "code",
   "execution_count": 89,
   "metadata": {
    "collapsed": false
   },
   "outputs": [
    {
     "data": {
      "image/png": "[encoded data removed]",
      "text/plain": [
       "<matplotlib.figure.Figure object at 0x135e17a10>"
      ]
     },
     "metadata": {},
     "output_type": "display_data"
    }
   ],
   "source": [
    "f, ax = plt.subplots(2, 5, figsize=(8, 6))\n",
    "ax = ax.flatten()\n",
    "for i in xrange(len(confidence)):\n",
    "    sns.kdeplot(confidence[i], ax=ax[i])"
   ]
  },
  {
   "cell_type": "markdown",
   "metadata": {},
   "source": [
    "All digits have roughly the same distribution of accuracy"
   ]
  },
  {
   "cell_type": "markdown",
   "metadata": {},
   "source": [
    "### Which picture was the hardest to guess?"
   ]
  },
  {
   "cell_type": "code",
   "execution_count": 119,
   "metadata": {
    "collapsed": false
   },
   "outputs": [
    {
     "name": "stdout",
     "output_type": "stream",
     "text": [
      "The real answer is 1\n",
      "The model guessed:\n",
      "Digit: 0\tProb: 0.000462176714791\n",
      "Digit: 1\tProb: 0.266207426786\n",
      "Digit: 2\tProb: 0.230069696903\n",
      "Digit: 3\tProb: 0.28124538064\n",
      "Digit: 4\tProb: 7.24997880752e-05\n",
      "Digit: 5\tProb: 4.94508858537e-05\n",
      "Digit: 6\tProb: 4.18177432948e-06\n",
      "Digit: 7\tProb: 0.0360736660659\n",
      "Digit: 8\tProb: 0.185164600611\n",
      "Digit: 9\tProb: 0.000650945585221\n"
     ]
    },
    {
     "data": {
      "image/png": "[encoded data removed]",
      "text/plain": [
       "<matplotlib.figure.Figure object at 0x1361859d0>"
      ]
     },
     "metadata": {},
     "output_type": "display_data"
    }
   ],
   "source": [
    "index = df.max(axis=1).idxmin()\n",
    "print 'The real answer is {}'.format(y_test[index])\n",
    "plt.imshow(X_test[index, :, :, 0]);\n",
    "print 'The model guessed:'\n",
    "for i, j in enumerate(df.iloc[index]):\n",
    "    print 'Digit: {}\\tProb: {}'.format(i, j)"
   ]
  },
  {
   "cell_type": "markdown",
   "metadata": {},
   "source": [
    "That is definitely an ugly 1."
   ]
  },
  {
   "cell_type": "markdown",
   "metadata": {},
   "source": [
    "# Super Extra Bonus Round\n",
    "* Upload and classify your own digit! (not that kind Aaron)"
   ]
  },
  {
   "cell_type": "code",
   "execution_count": 209,
   "metadata": {
    "collapsed": false,
    "scrolled": true
   },
   "outputs": [
    {
     "data": {
      "text/plain": [
       "<matplotlib.image.AxesImage object at 0x139076310>"
      ]
     },
     "execution_count": 209,
     "metadata": {},
     "output_type": "execute_result"
    },
    {
     "data": {
      "image/png": "[encoded data removed]",
      "text/plain": [
       "<matplotlib.figure.Figure object at 0x137e09550>"
      ]
     },
     "metadata": {},
     "output_type": "display_data"
    }
   ],
   "source": [
    "from scipy.misc import imread\n",
    "im = imread('data/7.png', flatten=True)\n",
    "plt.imshow(im)"
   ]
  },
  {
   "cell_type": "markdown",
   "metadata": {},
   "source": [
    "We'll have to resize the image in order to use it with our model"
   ]
  },
  {
   "cell_type": "code",
   "execution_count": 297,
   "metadata": {
    "collapsed": true
   },
   "outputs": [],
   "source": [
    "def resize_image(img_path, resize='28x28', grayscale=True, output_prefix='resized.'):\n",
    "    \"\"\"\n",
    "    Resizes and image using ImageMagick\n",
    "\n",
    "    :param str img_path: Path to image\n",
    "    :param str resize: Resize w x h in pixels\n",
    "    :param bool grayscale: If True, image will be greyscale\n",
    "    :param str output_prefix: Prefix for output image\n",
    "    :return: Output path\n",
    "    :rtype: str\n",
    "    \"\"\"\n",
    "    dirname, name = os.path.split(img_path)\n",
    "\n",
    "    params = ['convert', img_path,\n",
    "              '-resize', resize + '^',\n",
    "              '-gravity', 'center',\n",
    "              '-extent', resize]\n",
    "\n",
    "    if grayscale:\n",
    "        params.extend(['-type', 'Grayscale'])\n",
    "\n",
    "    output_path = os.path.join(dirname, output_prefix + name)\n",
    "    call(params + [output_path])\n",
    "\n",
    "    return output_path"
   ]
  },
  {
   "cell_type": "markdown",
   "metadata": {},
   "source": [
    "Now we'll write a function to resize our input, read, normalize, plot, and predict an image"
   ]
  },
  {
   "cell_type": "code",
   "execution_count": 312,
   "metadata": {
    "collapsed": true
   },
   "outputs": [],
   "source": [
    "def plot_and_predict(img_path, resize=True):\n",
    "    # Read image\n",
    "    img_path = resize_image(img_path) if resize else img_path\n",
    "    im = imread(img_path, flatten=True)\n",
    "    \n",
    "    # Normalize ... this was annoying as fuck\n",
    "    im = im * 1.0  # Dtype needs to be a float for next operation\n",
    "    im = np.abs(im - 255)  # White is max at 255, so subtract\n",
    "    im /= np.max(im)  # Normalize between 0 and 1\n",
    "    im[im > 0.25] = 1  # Strongly weights\n",
    "    \n",
    "    # Plot\n",
    "    plt.imshow(im); plt.colorbar()\n",
    "    \n",
    "    # Predict\n",
    "    im = im.reshape(1, img_rows, img_cols, 1)\n",
    "    for i, j in enumerate(model.predict(im)[0]):\n",
    "        print 'Digit: {}\\t Prob: {}'.format(i, j)"
   ]
  },
  {
   "cell_type": "code",
   "execution_count": 307,
   "metadata": {
    "collapsed": false
   },
   "outputs": [
    {
     "name": "stdout",
     "output_type": "stream",
     "text": [
      "Digit: 0\t Prob: 3.19437617871e-15\n",
      "Digit: 1\t Prob: 6.54859916294e-11\n",
      "Digit: 2\t Prob: 0.996887862682\n",
      "Digit: 3\t Prob: 0.00271940696985\n",
      "Digit: 4\t Prob: 6.92297219551e-10\n",
      "Digit: 5\t Prob: 4.3200417744e-13\n",
      "Digit: 6\t Prob: 1.27661900487e-14\n",
      "Digit: 7\t Prob: 0.000392564368667\n",
      "Digit: 8\t Prob: 1.71787974068e-07\n",
      "Digit: 9\t Prob: 5.29726544747e-14\n"
     ]
    },
    {
     "data": {
      "image/png": "[encoded data removed]",
      "text/plain": [
       "<matplotlib.figure.Figure object at 0x13e2c9cd0>"
      ]
     },
     "metadata": {},
     "output_type": "display_data"
    }
   ],
   "source": [
    "plot_and_predict('data/7.png')"
   ]
  },
  {
   "cell_type": "markdown",
   "metadata": {},
   "source": [
    "Damn, guess I draw 7s in a way that is different from all participants in the training set. What about another number?"
   ]
  },
  {
   "cell_type": "code",
   "execution_count": 311,
   "metadata": {
    "collapsed": false
   },
   "outputs": [
    {
     "name": "stdout",
     "output_type": "stream",
     "text": [
      "Digit: 0\t Prob: 5.6514726926e-11\n",
      "Digit: 1\t Prob: 5.41928307785e-12\n",
      "Digit: 2\t Prob: 3.84828080513e-09\n",
      "Digit: 3\t Prob: 2.66284789774e-08\n",
      "Digit: 4\t Prob: 1.16556282109e-14\n",
      "Digit: 5\t Prob: 2.2449428343e-06\n",
      "Digit: 6\t Prob: 1.62227550837e-10\n",
      "Digit: 7\t Prob: 2.57001017689e-12\n",
      "Digit: 8\t Prob: 0.999997735023\n",
      "Digit: 9\t Prob: 1.92036490876e-11\n"
     ]
    },
    {
     "data": {
      "image/png": "[encoded data removed]",
      "text/plain": [
       "<matplotlib.figure.Figure object at 0x14805b6d0>"
      ]
     },
     "metadata": {},
     "output_type": "display_data"
    }
   ],
   "source": [
    "plot_and_predict('data/8.png')"
   ]
  },
  {
   "cell_type": "markdown",
   "metadata": {},
   "source": [
    "Nice! Correctly guessed with a very high confidence."
   ]
  }
 ],
 "metadata": {
  "kernelspec": {
   "display_name": "Python 2",
   "language": "python",
   "name": "python2"
  },
  "language_info": {
   "codemirror_mode": {
    "name": "ipython",
    "version": 2
   },
   "file_extension": ".py",
   "mimetype": "text/x-python",
   "name": "python",
   "nbconvert_exporter": "python",
   "pygments_lexer": "ipython2",
   "version": "2.7.11"
  }
 },
 "nbformat": 4,
 "nbformat_minor": 0
}
